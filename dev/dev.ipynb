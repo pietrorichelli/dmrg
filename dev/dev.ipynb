{
 "cells": [
  {
   "cell_type": "markdown",
   "id": "b9a456b0",
   "metadata": {},
   "source": [
    "# Dev notebook for updates"
   ]
  },
  {
   "cell_type": "markdown",
   "id": "3125bb8b",
   "metadata": {},
   "source": [
    "`No updates in progress`"
   ]
  }
 ],
 "metadata": {
  "kernelspec": {
   "display_name": ".dmrg",
   "language": "python",
   "name": ".dmrg"
  },
  "language_info": {
   "codemirror_mode": {
    "name": "ipython",
    "version": 3
   },
   "file_extension": ".py",
   "mimetype": "text/x-python",
   "name": "python",
   "nbconvert_exporter": "python",
   "pygments_lexer": "ipython3",
   "version": "3.10.12"
  }
 },
 "nbformat": 4,
 "nbformat_minor": 5
}
