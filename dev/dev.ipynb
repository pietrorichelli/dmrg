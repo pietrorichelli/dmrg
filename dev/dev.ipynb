{
 "cells": [
  {
   "cell_type": "markdown",
   "id": "b9a456b0",
   "metadata": {},
   "source": [
    "# Dev notebook for updates"
   ]
  },
  {
   "cell_type": "markdown",
   "id": "3125bb8b",
   "metadata": {},
   "source": [
    "`Lanczos optimization`"
   ]
  },
  {
   "cell_type": "code",
   "execution_count": 24,
   "id": "2ff05bb9",
   "metadata": {},
   "outputs": [],
   "source": [
    "import numpy as np\n",
    "from dmrg_src.MPS import MPS \n",
    "from dmrg_src.MPO import MPO_TFI\n",
    "from dmrg_src.cont import CONT\n",
    "# from dmrg_src.dmrg import dmrg\n",
    "from dmrg.obs import observables\n",
    "\n",
    "import matplotlib.pyplot as plt\n",
    "import os\n",
    "import shutil\n",
    "from tqdm import tqdm"
   ]
  },
  {
   "cell_type": "code",
   "execution_count": null,
   "id": "1a5a828e",
   "metadata": {},
   "outputs": [],
   "source": [
    "from scipy.linalg import eigh_tridiagonal\n",
    "from numpy.linalg import eigh "
   ]
  },
  {
   "cell_type": "code",
   "execution_count": null,
   "id": "419c264b",
   "metadata": {},
   "outputs": [],
   "source": [
    "len = 1000\n",
    "a = np.random.rand(len)\n",
    "b = np.random.rand(len-1)\n",
    "mat = np.diag(a)\n",
    "for i in range(len-1):\n",
    "    mat[i,i+1] = mat[i+1,i] = b[i]"
   ]
  },
  {
   "cell_type": "code",
   "execution_count": null,
   "id": "05a2d231",
   "metadata": {},
   "outputs": [],
   "source": [
    "e1,v1 = eigh_tridiagonal(a,b)\n",
    "e2,v2 = eigh(mat)"
   ]
  },
  {
   "cell_type": "code",
   "execution_count": null,
   "id": "8dfc82d8",
   "metadata": {},
   "outputs": [],
   "source": [
    "sum(mat@v2[:,0] - e2[0]*v2[:,0])\n",
    "sum(mat@v1[:,0] - e1[0]*v1[:,0])"
   ]
  },
  {
   "cell_type": "code",
   "execution_count": null,
   "id": "043fbf42",
   "metadata": {},
   "outputs": [],
   "source": [
    "vec = np.random.random(100)\n",
    "a = [vec]\n",
    "a[-1]\n",
    "a.append(vec**2)\n",
    "a"
   ]
  },
  {
   "cell_type": "markdown",
   "id": "4d734395",
   "metadata": {},
   "source": [
    "### Class "
   ]
  },
  {
   "cell_type": "code",
   "execution_count": 314,
   "id": "854d965a",
   "metadata": {},
   "outputs": [],
   "source": [
    "import numpy as np\n",
    "import warnings\n",
    "from scipy.linalg import eigh_tridiagonal\n",
    "\n",
    "class EffH():\n",
    "\n",
    "    def __init__(self,L,R,H,site,k=1000):\n",
    "        self.L = L \n",
    "        self.R = R \n",
    "        self.H = H \n",
    "        self.k = k\n",
    "        self.d = H.d\n",
    "        self.site = site\n",
    "        c1,_,_ = L.shape\n",
    "        c2,_,_ = R.shape\n",
    "        self.c1 = c1\n",
    "        self.c2 = c2\n",
    "        self.len_vec = c1*c2*self.d**2\n",
    "        if c1*c2*self.d**2 < k:\n",
    "            self.k = c1*c2*self.d**2\n",
    "\n",
    "    def __str__(self):\n",
    "        return 'Effective Hamiltonian on the Cayley tree'\n",
    "    \n",
    "    def __repr__(self):\n",
    "        return 'Effective Hamiltonian on the Cayley tree'\n",
    "\n",
    "    def matvec(self,psi):\n",
    "        h = self.H\n",
    "        psi = np.reshape(psi,(self.c1,self.d,self.d,self.c2))\n",
    "        \n",
    "        x = np.tensordot(self.L,h.mpo(p=self.site),(1,2))\n",
    "        x = np.tensordot(x,psi,[(0,2),(0,1)])\n",
    "        x = np.tensordot(x,h.mpo(p=self.site+1),[(2,3),(2,0)])\n",
    "        x = np.tensordot(x,self.R,[(4,2),(1,0)])\n",
    "        \n",
    "        return np.reshape(x,(self.c1*self.d*self.d*self.c2))\n",
    "\n",
    "    def lanc_iter(self,psi0,exc='off'):\n",
    "        psi0 = psi0/np.linalg.norm(psi0)\n",
    "        vecs = [psi0] \n",
    "\n",
    "        T = np.zeros((self.k,self.k))\n",
    "        \n",
    "        psi = self.matvec(psi0)\n",
    "        alpha = T[0, 0] = np.inner(psi0.conj(),psi).real\n",
    "        psi = psi - alpha* vecs[-1]\n",
    "        \n",
    "        for i in range(1,self.k):\n",
    "            beta = np.linalg.norm(psi)\n",
    "            if beta  < 1e-10:\n",
    "                # raise Warning(f'beta < 1e-10 at dim = {i}')\n",
    "                T = T[:i, :i]\n",
    "                break\n",
    "            if exc == 'off':\n",
    "                psi /= beta\n",
    "            if exc == 'on':\n",
    "                psi_o = psi\n",
    "                for j in range(i):\n",
    "                    psi_o -= (psi.conj()@vecs[j])*vecs[j]\n",
    "                psi = psi_o/np.linalg.norm(psi_o)\n",
    "            # print(np.linalg.norm(psi))\n",
    "            vecs.append(psi)\n",
    "            psi = self.matvec(psi) \n",
    "            alpha = np.inner(vecs[-1].conj(), psi).real\n",
    "            psi = psi - alpha * vecs[-1] - beta * vecs[-2]\n",
    "            T[i, i] = alpha\n",
    "            T[i-1, i] = T[i, i-1] = beta    \n",
    "            # if i == self.k -1:\n",
    "            #     warnings.warn(f'Full size reached at beta = {beta}')\n",
    "        return T, (np.array(vecs).T).conj()\n",
    "            \n",
    "    def lanczos_grd(self,psi0=None,exc='off'):\n",
    "        if psi0 is None:\n",
    "            psi0 = np.random.rand(self.c1*self.c2*self.d**2)\n",
    "        T, vecs = self.lanc_iter(psi0,exc=exc)\n",
    "\n",
    "        # check orthogonality\n",
    "        # if not np.isclose(vecs.T@vecs,np.identity(vecs.shape[1])).all(): #(new != np.identity(vecs.shape[0])).all():\n",
    "        #     print('Vecs not orthonormal in ',self.site)\n",
    "        \n",
    "        E, v = np.linalg.eigh(T)\n",
    "        result = vecs @ v[:, np.argmin(E)]\n",
    "        if exc == 'off':\n",
    "            E = min(E)\n",
    "        return E, result"
   ]
  },
  {
   "cell_type": "code",
   "execution_count": 117,
   "id": "6b85c6f5",
   "metadata": {},
   "outputs": [],
   "source": [
    "# import numpy as np\n",
    "\n",
    "# from .MPS import MPS\n",
    "# from .cont import CONT\n",
    "# from dmrg_src.lanczos import EffH\n",
    "\n",
    "class dmrg():\n",
    "    \"\"\"\n",
    "        Class that runs the DMRG algorithm on a 1 dimensional system\n",
    "\n",
    "            Attributes:\n",
    "                - cont: Class DMRG.contractions\n",
    "    \"\"\"\n",
    "\n",
    "    def __init__(self,cont,chi=100,cut=1e-12,k=1000):\n",
    "        self.cont = cont\n",
    "        self.mps = cont.mps\n",
    "        self.chi = chi\n",
    "        self.h = cont.h\n",
    "        self.L = cont.L\n",
    "        self.count = cont.count\n",
    "        self.cut = cut\n",
    "        self.d = self.mps.d\n",
    "        self.k = k\n",
    "\n",
    "    \n",
    "    def infinite(self):\n",
    "\n",
    "        En = np.zeros(self.L//2-1)\n",
    "        \n",
    "        env_left = self.cont.left(self.L%2)\n",
    "        env_right = self.cont.right(self.L-1)\n",
    "\n",
    "        for i in range(1,self.mps.L//2):\n",
    "\n",
    "            H = EffH(env_left,env_right,self.h,site=i)\n",
    "            En[i-1],grd = H.lanczos_grd()\n",
    "\n",
    "            mat = np.reshape(grd,(H.c1*H.d,H.d*H.c2))\n",
    "            l,c,r = np.linalg.svd(mat)\n",
    "\n",
    "            bound = min(len(c[c>self.cut]),self.chi)\n",
    "           \n",
    "            l = l[:,:bound]\n",
    "            c = c[:bound]\n",
    "            r = r[:bound,:]\n",
    "\n",
    "            self.mps.write_left(i+self.L%2,l)\n",
    "            self.mps.write_right(self.mps.L-i-1,r)\n",
    "            \n",
    "            env_left = self.cont.add(i+self.L%2,'l')\n",
    "            env_right = self.cont.add(self.mps.L-i-1,'r')\n",
    "            \n",
    "        self.mps.writeS(i+self.L%2,np.diag(c))\n",
    "\n",
    "        return En\n",
    "\n",
    "    def step2sites(self,site,dir,exc='off',stage=None):\n",
    "\n",
    "        env_left,env_right = self.cont.env_prep(site)\n",
    "    \n",
    "        H = EffH(env_left,env_right,self.h,site=site,k=self.k)\n",
    "\n",
    "        if dir == 'l' or dir == 'bl':\n",
    "            init_vec = np.tensordot(self.mps.read(site),np.tensordot(self.mps.read(site+1),self.mps.readS(site+1),(2,0)),(2,1))\n",
    "            init_vec = dmrg.remish(init_vec)\n",
    "        if dir == 'r' or dir == 'br':\n",
    "            init_vec = np.tensordot(np.tensordot(self.mps.readS(site-1),self.mps.read(site),(0,1)),self.mps.read(site+1),(2,1))\n",
    "\n",
    "        init_vec = np.reshape(init_vec,np.prod(init_vec.shape))\n",
    "        \n",
    "        if stage == None:\n",
    "            En,grd = H.lanczos_grd(psi0=None,exc=exc)\n",
    "            grd_state = 1/np.sqrt(np.conj(grd)@grd)*grd\n",
    "        if stage == 'Final':\n",
    "            grd_state = 1/np.sqrt(init_vec@np.conj(init_vec))*init_vec\n",
    "            En = np.conj(grd_state)@H.matvec(grd_state)\n",
    "        \n",
    "        grd_state = np.reshape(grd_state,(H.c1*H.d,H.d*H.c2))\n",
    "\n",
    "        l,c,r = np.linalg.svd(grd_state,full_matrices=False)\n",
    "        \n",
    "        cut = min(len(c[c**2>self.cut]),self.chi)\n",
    "        \n",
    "        l = l[:,:cut]\n",
    "        c = c[:cut]\n",
    "        r = r[:cut,:]\n",
    "        \n",
    "        self.mps.write_left(site,l)\n",
    "        self.mps.write_right(site+1,r)\n",
    "        self.mps.writeS(site,np.diag(c))\n",
    "\n",
    "        if dir == 'r':\n",
    "            self.cont.add(site,'l')\n",
    "            if site == self.L -3:\n",
    "                self.cont.add(site+1,'r')\n",
    "        \n",
    "        if dir == 'l':\n",
    "            self.cont.add(site+1,'r')\n",
    "            if site == 1:\n",
    "                self.cont.add(site,'l')\n",
    "        \n",
    "        return En, -c**2@np.log(c**2)\n",
    "\n",
    "\n",
    "    def remish(ten):\n",
    "        d0,d1,d2,d3 = ten.shape\n",
    "        res = np.zeros((d1,d0,d2,d3),dtype='complex')\n",
    "        for i0 in range(d0):\n",
    "            for i1 in range(d1):\n",
    "                res[i1,i0,:,:] = ten[i0,i1,:,:]\n",
    "\n",
    "        return res\n",
    "    "
   ]
  },
  {
   "cell_type": "code",
   "execution_count": 118,
   "id": "9e5d8d15",
   "metadata": {},
   "outputs": [],
   "source": [
    "class MPO_AL():\n",
    "\n",
    "    Id2 = np.identity(2)\n",
    "    Id4 = np.identity(4)\n",
    "    Sp = np.array([[0,1],[0,0]])\n",
    "    Sm = np.array([[0,0],[1,0]])\n",
    "    Z = np.array([[1,0],[0,-1]])\n",
    "    d = 4\n",
    "\n",
    "    sub_BC = [0,2,3]\n",
    "    sub_A = [1,4]\n",
    "\n",
    "    def __init__(self,t_1,t_2,U,e_A,mu):\n",
    "        self.t_1 = t_1\n",
    "        self.t_2 = t_2\n",
    "        self.U = U\n",
    "        self.e_A = e_A\n",
    "        self.mu = mu\n",
    "        self.OP = [np.kron(MPO_AL.Sm,MPO_AL.Id2),np.kron(MPO_AL.Sp,MPO_AL.Id2),np.kron(MPO_AL.Z,MPO_AL.Sm),np.kron(MPO_AL.Z,MPO_AL.Sp)]\n",
    "        self.coeff = [[self.t_1,self.t_2,self.t_2,0,0],\n",
    "                    [self.t_1,self.t_2,self.t_1,0,self.t_2],\n",
    "                    [0,self.t_2,self.t_1,0,self.t_2],\n",
    "                    [0,self.t_1,self.t_2,0,self.t_2],\n",
    "                    [0,self.t_1,0,0,self.t_2]]\n",
    "\n",
    "    \n",
    "    def mpo(self,p):\n",
    "\n",
    "        MPO = np.zeros((4,4,22,22))\n",
    "\n",
    "        MPO[:,:,0,0] = MPO_AL.Id4\n",
    "        MPO[:,:,0,1] = np.kron(MPO_AL.Sp,MPO_AL.Z)\n",
    "        MPO[:,:,0,6] = np.kron(MPO_AL.Sm,MPO_AL.Z)\n",
    "        MPO[:,:,0,11] = np.kron(MPO_AL.Id2,MPO_AL.Sp)\n",
    "        MPO[:,:,0,16] = np.kron(MPO_AL.Id2,MPO_AL.Sm)\n",
    "        MPO[:,:,0,21] = -self.mu*(np.kron(MPO_AL.Z,MPO_AL.Id2) + np.kron(MPO_AL.Id2,MPO_AL.Z))\n",
    "\n",
    "        # sublattice conditions\n",
    "        if (p-1)%5 in MPO_AL.sub_BC:\n",
    "            MPO[:,:,0,21] += self.U*np.kron(MPO_AL.Z,MPO_AL.Z)\n",
    "        \n",
    "        if (p-1)%5 in MPO_AL.sub_A:\n",
    "            MPO[:,:,0,21] += self.e_A*(np.kron(MPO_AL.Z,MPO_AL.Id2) + np.kron(MPO_AL.Id2,MPO_AL.Z))\n",
    "\n",
    "        for j in range(4):\n",
    "            for i in range(4):\n",
    "                MPO[:,:,1 +j*5 +i,2+j*5+i] = np.kron(MPO_AL.Z,MPO_AL.Z)\n",
    "\n",
    "        \n",
    "        for j in range(1,6):\n",
    "            for i in range(4):\n",
    "                MPO[:,:,j+5*i,21] = self.coeff[(p-1)%5][j-1]*self.OP[i]\n",
    "\n",
    "        MPO[:,:,21,21] = MPO_AL.Id4\n",
    "\n",
    "        return MPO\n",
    "\n",
    "    def Wl(self):\n",
    "\n",
    "        Wleft = np.zeros((4,4,22))\n",
    "\n",
    "        Wleft[:,:,0] = MPO_AL.Id4\n",
    "        Wleft[:,:,1] = np.kron(MPO_AL.Sp,MPO_AL.Z)\n",
    "        Wleft[:,:,6] = np.kron(MPO_AL.Sm,MPO_AL.Z)\n",
    "        Wleft[:,:,11] = np.kron(MPO_AL.Id2,MPO_AL.Sp)\n",
    "        Wleft[:,:,16] = np.kron(MPO_AL.Id2,MPO_AL.Sm)\n",
    "        Wleft[:,:,21] = (-self.mu + self.e_A )*(np.kron(MPO_AL.Z,MPO_AL.Id2) + np.kron(MPO_AL.Id2,MPO_AL.Z)) \n",
    "\n",
    "        return Wleft\n",
    "\n",
    "    def Wr(self):\n",
    "\n",
    "        Wright = np.zeros((4,4,22))\n",
    "\n",
    "        for j in range(1,6):\n",
    "            for i in range(4):\n",
    "                Wright[:,:,j+5*i] = self.coeff[1][j-1]*self.OP[i]\n",
    "\n",
    "        Wright[:,:,21] = MPO_AL.Id4\n",
    "\n",
    "        return Wright"
   ]
  },
  {
   "cell_type": "code",
   "execution_count": 132,
   "id": "cb2ba644",
   "metadata": {},
   "outputs": [],
   "source": [
    "class MPO_XY():\n",
    "\n",
    "    X = np.array([[0,1],[1,0]])\n",
    "    Y = np.array([[0,-1j],[1j,0]])\n",
    "    Id = np.identity(2)\n",
    "    d = 2\n",
    "\n",
    "    def __init__(self,J=1):\n",
    "        self.J = J \n",
    "\n",
    "    def Wl(self,p=None):\n",
    "        Wl = np.zeros((2,2,4),dtype='complex')\n",
    "\n",
    "        Wl[:,:,0] = self.Id\n",
    "        Wl[:,:,1] = self.X \n",
    "        Wl[:,:,2] = self.Y \n",
    "\n",
    "        return Wl \n",
    "\n",
    "    def mpo(self,p=None):\n",
    "\n",
    "        MPO = np.zeros((2,2,4,4),dtype='complex')\n",
    "\n",
    "        MPO[:,:,0,0] = self.Id \n",
    "        MPO[:,:,0,1] = self.X \n",
    "        MPO[:,:,0,2] = self.Y \n",
    "        \n",
    "        MPO[:,:,1,3] = self.J*self.X \n",
    "        MPO[:,:,2,3] = self.J*self.Y \n",
    "        \n",
    "        MPO[:,:,3,3] = self.Id \n",
    "\n",
    "        return MPO \n",
    "\n",
    "    def Wr(self,p=None):\n",
    "\n",
    "        Wr = np.zeros((2,2,4),dtype='complex')\n",
    "\n",
    "        Wr[:,:,1] = self.J*self.X \n",
    "        Wr[:,:,2] = self.J*self.Y \n",
    "        Wr[:,:,3] = self.Id \n",
    "\n",
    "        return Wr"
   ]
  },
  {
   "cell_type": "code",
   "execution_count": 29,
   "id": "985e479a",
   "metadata": {},
   "outputs": [],
   "source": [
    "class MPO_XY_big():\n",
    "\n",
    "    X = np.kron(np.array([[0,1],[1,0]]),np.array([[1,0],[0,1]]))\n",
    "    Y = np.kron(np.array([[0,-1j],[1j,0]]),np.array([[1,0],[0,1]]))\n",
    "    Z = np.kron(np.identity(2),np.array([[1,0],[0,-1]]))\n",
    "    Id = np.identity(4)\n",
    "    d = 4\n",
    "\n",
    "    def __init__(self,J=1):\n",
    "        self.J = J \n",
    "\n",
    "    def Wl(self,p=None):\n",
    "        Wl = np.zeros((4,4,4),dtype='complex')\n",
    "\n",
    "        Wl[:,:,0] = self.Id\n",
    "        Wl[:,:,1] = self.X \n",
    "        Wl[:,:,2] = self.Y \n",
    "        Wl[:,:,3] = self.Z\n",
    "\n",
    "        return Wl \n",
    "\n",
    "    def mpo(self,p=None):\n",
    "\n",
    "        MPO = np.zeros((4,4,4,4),dtype='complex')\n",
    "\n",
    "        MPO[:,:,0,0] = self.Id \n",
    "        MPO[:,:,0,1] = self.X \n",
    "        MPO[:,:,0,2] = self.Y \n",
    "        MPO[:,:,0,3] = self.Z\n",
    "        \n",
    "        MPO[:,:,1,3] = self.J*self.X \n",
    "        MPO[:,:,2,3] = self.J*self.Y \n",
    "        \n",
    "        MPO[:,:,3,3] = self.Id \n",
    "\n",
    "        return MPO \n",
    "\n",
    "    def Wr(self,p=None):\n",
    "\n",
    "        Wr = np.zeros((4,4,4),dtype='complex')\n",
    "        \n",
    "        Wr[:,:,0] = self.Z\n",
    "        Wr[:,:,1] = self.J*self.X \n",
    "        Wr[:,:,2] = self.J*self.Y \n",
    "        Wr[:,:,3] = self.Id \n",
    "\n",
    "        return Wr"
   ]
  },
  {
   "cell_type": "markdown",
   "id": "55ad2f3d",
   "metadata": {},
   "source": [
    "### Test"
   ]
  },
  {
   "cell_type": "code",
   "execution_count": 319,
   "id": "72671a02",
   "metadata": {},
   "outputs": [
    {
     "name": "stderr",
     "output_type": "stream",
     "text": [
      "21it [00:00, 124.19it/s]\n",
      "28it [00:35,  1.28s/it]\n",
      "5it [01:36, 19.20s/it]\n"
     ]
    },
    {
     "ename": "KeyboardInterrupt",
     "evalue": "",
     "output_type": "error",
     "traceback": [
      "\u001b[0;31m---------------------------------------------------------------------------\u001b[0m",
      "\u001b[0;31mKeyboardInterrupt\u001b[0m                         Traceback (most recent call last)",
      "Cell \u001b[0;32mIn[319], line 35\u001b[0m\n\u001b[1;32m     33\u001b[0m \u001b[38;5;28;01mwhile\u001b[39;00m \u001b[38;5;28;01mTrue\u001b[39;00m:\n\u001b[1;32m     34\u001b[0m     \u001b[38;5;28;01mfor\u001b[39;00m site,\u001b[38;5;28mdir\u001b[39m \u001b[38;5;129;01min\u001b[39;00m tqdm(mps\u001b[38;5;241m.\u001b[39msweep()):\n\u001b[0;32m---> 35\u001b[0m         En,_ \u001b[38;5;241m=\u001b[39m \u001b[43msys\u001b[49m\u001b[38;5;241;43m.\u001b[39;49m\u001b[43mstep2sites\u001b[49m\u001b[43m(\u001b[49m\u001b[43msite\u001b[49m\u001b[43m,\u001b[49m\u001b[38;5;28;43mdir\u001b[39;49m\u001b[38;5;241;43m=\u001b[39;49m\u001b[38;5;28;43mdir\u001b[39;49m\u001b[43m,\u001b[49m\u001b[43mexc\u001b[49m\u001b[38;5;241;43m=\u001b[39;49m\u001b[38;5;124;43m'\u001b[39;49m\u001b[38;5;124;43moff\u001b[39;49m\u001b[38;5;124;43m'\u001b[39;49m\u001b[43m)\u001b[49m\n\u001b[1;32m     36\u001b[0m         EE\u001b[38;5;241m.\u001b[39mappend(En)\n\u001b[1;32m     37\u001b[0m     k \u001b[38;5;241m+\u001b[39m\u001b[38;5;241m=\u001b[39m \u001b[38;5;241m1\u001b[39m\n",
      "Cell \u001b[0;32mIn[117], line 73\u001b[0m, in \u001b[0;36mdmrg.step2sites\u001b[0;34m(self, site, dir, exc, stage)\u001b[0m\n\u001b[1;32m     70\u001b[0m init_vec \u001b[38;5;241m=\u001b[39m np\u001b[38;5;241m.\u001b[39mreshape(init_vec,np\u001b[38;5;241m.\u001b[39mprod(init_vec\u001b[38;5;241m.\u001b[39mshape))\n\u001b[1;32m     72\u001b[0m \u001b[38;5;28;01mif\u001b[39;00m stage \u001b[38;5;241m==\u001b[39m \u001b[38;5;28;01mNone\u001b[39;00m:\n\u001b[0;32m---> 73\u001b[0m     En,grd \u001b[38;5;241m=\u001b[39m \u001b[43mH\u001b[49m\u001b[38;5;241;43m.\u001b[39;49m\u001b[43mlanczos_grd\u001b[49m\u001b[43m(\u001b[49m\u001b[43mpsi0\u001b[49m\u001b[38;5;241;43m=\u001b[39;49m\u001b[38;5;28;43;01mNone\u001b[39;49;00m\u001b[43m,\u001b[49m\u001b[43mexc\u001b[49m\u001b[38;5;241;43m=\u001b[39;49m\u001b[43mexc\u001b[49m\u001b[43m)\u001b[49m\n\u001b[1;32m     74\u001b[0m     grd_state \u001b[38;5;241m=\u001b[39m \u001b[38;5;241m1\u001b[39m\u001b[38;5;241m/\u001b[39mnp\u001b[38;5;241m.\u001b[39msqrt(np\u001b[38;5;241m.\u001b[39mconj(grd)\u001b[38;5;129m@grd\u001b[39m)\u001b[38;5;241m*\u001b[39mgrd\n\u001b[1;32m     75\u001b[0m \u001b[38;5;28;01mif\u001b[39;00m stage \u001b[38;5;241m==\u001b[39m \u001b[38;5;124m'\u001b[39m\u001b[38;5;124mFinal\u001b[39m\u001b[38;5;124m'\u001b[39m:\n",
      "Cell \u001b[0;32mIn[314], line 76\u001b[0m, in \u001b[0;36mEffH.lanczos_grd\u001b[0;34m(self, psi0, exc)\u001b[0m\n\u001b[1;32m     74\u001b[0m \u001b[38;5;28;01mif\u001b[39;00m psi0 \u001b[38;5;129;01mis\u001b[39;00m \u001b[38;5;28;01mNone\u001b[39;00m:\n\u001b[1;32m     75\u001b[0m     psi0 \u001b[38;5;241m=\u001b[39m np\u001b[38;5;241m.\u001b[39mrandom\u001b[38;5;241m.\u001b[39mrand(\u001b[38;5;28mself\u001b[39m\u001b[38;5;241m.\u001b[39mc1\u001b[38;5;241m*\u001b[39m\u001b[38;5;28mself\u001b[39m\u001b[38;5;241m.\u001b[39mc2\u001b[38;5;241m*\u001b[39m\u001b[38;5;28mself\u001b[39m\u001b[38;5;241m.\u001b[39md\u001b[38;5;241m*\u001b[39m\u001b[38;5;241m*\u001b[39m\u001b[38;5;241m2\u001b[39m)\n\u001b[0;32m---> 76\u001b[0m T, vecs \u001b[38;5;241m=\u001b[39m \u001b[38;5;28;43mself\u001b[39;49m\u001b[38;5;241;43m.\u001b[39;49m\u001b[43mlanc_iter\u001b[49m\u001b[43m(\u001b[49m\u001b[43mpsi0\u001b[49m\u001b[43m,\u001b[49m\u001b[43mexc\u001b[49m\u001b[38;5;241;43m=\u001b[39;49m\u001b[43mexc\u001b[49m\u001b[43m)\u001b[49m\n\u001b[1;32m     78\u001b[0m \u001b[38;5;66;03m# check orthogonality\u001b[39;00m\n\u001b[1;32m     79\u001b[0m \u001b[38;5;66;03m# if not np.isclose(vecs.T@vecs,np.identity(vecs.shape[1])).all(): #(new != np.identity(vecs.shape[0])).all():\u001b[39;00m\n\u001b[1;32m     80\u001b[0m \u001b[38;5;66;03m#     print('Vecs not orthonormal in ',self.site)\u001b[39;00m\n\u001b[1;32m     82\u001b[0m E, v \u001b[38;5;241m=\u001b[39m np\u001b[38;5;241m.\u001b[39mlinalg\u001b[38;5;241m.\u001b[39meigh(T)\n",
      "Cell \u001b[0;32mIn[314], line 64\u001b[0m, in \u001b[0;36mEffH.lanc_iter\u001b[0;34m(self, psi0, exc)\u001b[0m\n\u001b[1;32m     62\u001b[0m \u001b[38;5;66;03m# print(np.linalg.norm(psi))\u001b[39;00m\n\u001b[1;32m     63\u001b[0m vecs\u001b[38;5;241m.\u001b[39mappend(psi)\n\u001b[0;32m---> 64\u001b[0m psi \u001b[38;5;241m=\u001b[39m \u001b[38;5;28;43mself\u001b[39;49m\u001b[38;5;241;43m.\u001b[39;49m\u001b[43mmatvec\u001b[49m\u001b[43m(\u001b[49m\u001b[43mpsi\u001b[49m\u001b[43m)\u001b[49m \n\u001b[1;32m     65\u001b[0m alpha \u001b[38;5;241m=\u001b[39m np\u001b[38;5;241m.\u001b[39minner(vecs[\u001b[38;5;241m-\u001b[39m\u001b[38;5;241m1\u001b[39m]\u001b[38;5;241m.\u001b[39mconj(), psi)\u001b[38;5;241m.\u001b[39mreal\n\u001b[1;32m     66\u001b[0m psi \u001b[38;5;241m=\u001b[39m psi \u001b[38;5;241m-\u001b[39m alpha \u001b[38;5;241m*\u001b[39m vecs[\u001b[38;5;241m-\u001b[39m\u001b[38;5;241m1\u001b[39m] \u001b[38;5;241m-\u001b[39m beta \u001b[38;5;241m*\u001b[39m vecs[\u001b[38;5;241m-\u001b[39m\u001b[38;5;241m2\u001b[39m]\n",
      "Cell \u001b[0;32mIn[314], line 34\u001b[0m, in \u001b[0;36mEffH.matvec\u001b[0;34m(self, psi)\u001b[0m\n\u001b[1;32m     32\u001b[0m x \u001b[38;5;241m=\u001b[39m np\u001b[38;5;241m.\u001b[39mtensordot(\u001b[38;5;28mself\u001b[39m\u001b[38;5;241m.\u001b[39mL,h\u001b[38;5;241m.\u001b[39mmpo(p\u001b[38;5;241m=\u001b[39m\u001b[38;5;28mself\u001b[39m\u001b[38;5;241m.\u001b[39msite),(\u001b[38;5;241m1\u001b[39m,\u001b[38;5;241m2\u001b[39m))\n\u001b[1;32m     33\u001b[0m x \u001b[38;5;241m=\u001b[39m np\u001b[38;5;241m.\u001b[39mtensordot(x,psi,[(\u001b[38;5;241m0\u001b[39m,\u001b[38;5;241m2\u001b[39m),(\u001b[38;5;241m0\u001b[39m,\u001b[38;5;241m1\u001b[39m)])\n\u001b[0;32m---> 34\u001b[0m x \u001b[38;5;241m=\u001b[39m \u001b[43mnp\u001b[49m\u001b[38;5;241;43m.\u001b[39;49m\u001b[43mtensordot\u001b[49m\u001b[43m(\u001b[49m\u001b[43mx\u001b[49m\u001b[43m,\u001b[49m\u001b[43mh\u001b[49m\u001b[38;5;241;43m.\u001b[39;49m\u001b[43mmpo\u001b[49m\u001b[43m(\u001b[49m\u001b[43mp\u001b[49m\u001b[38;5;241;43m=\u001b[39;49m\u001b[38;5;28;43mself\u001b[39;49m\u001b[38;5;241;43m.\u001b[39;49m\u001b[43msite\u001b[49m\u001b[38;5;241;43m+\u001b[39;49m\u001b[38;5;241;43m1\u001b[39;49m\u001b[43m)\u001b[49m\u001b[43m,\u001b[49m\u001b[43m[\u001b[49m\u001b[43m(\u001b[49m\u001b[38;5;241;43m2\u001b[39;49m\u001b[43m,\u001b[49m\u001b[38;5;241;43m3\u001b[39;49m\u001b[43m)\u001b[49m\u001b[43m,\u001b[49m\u001b[43m(\u001b[49m\u001b[38;5;241;43m2\u001b[39;49m\u001b[43m,\u001b[49m\u001b[38;5;241;43m0\u001b[39;49m\u001b[43m)\u001b[49m\u001b[43m]\u001b[49m\u001b[43m)\u001b[49m\n\u001b[1;32m     35\u001b[0m x \u001b[38;5;241m=\u001b[39m np\u001b[38;5;241m.\u001b[39mtensordot(x,\u001b[38;5;28mself\u001b[39m\u001b[38;5;241m.\u001b[39mR,[(\u001b[38;5;241m4\u001b[39m,\u001b[38;5;241m2\u001b[39m),(\u001b[38;5;241m1\u001b[39m,\u001b[38;5;241m0\u001b[39m)])\n\u001b[1;32m     37\u001b[0m \u001b[38;5;28;01mreturn\u001b[39;00m np\u001b[38;5;241m.\u001b[39mreshape(x,(\u001b[38;5;28mself\u001b[39m\u001b[38;5;241m.\u001b[39mc1\u001b[38;5;241m*\u001b[39m\u001b[38;5;28mself\u001b[39m\u001b[38;5;241m.\u001b[39md\u001b[38;5;241m*\u001b[39m\u001b[38;5;28mself\u001b[39m\u001b[38;5;241m.\u001b[39md\u001b[38;5;241m*\u001b[39m\u001b[38;5;28mself\u001b[39m\u001b[38;5;241m.\u001b[39mc2))\n",
      "File \u001b[0;32m~/Documents/Code/.dmrg/lib/python3.10/site-packages/numpy/_core/numeric.py:1177\u001b[0m, in \u001b[0;36mtensordot\u001b[0;34m(a, b, axes)\u001b[0m\n\u001b[1;32m   1175\u001b[0m at \u001b[38;5;241m=\u001b[39m a\u001b[38;5;241m.\u001b[39mtranspose(newaxes_a)\u001b[38;5;241m.\u001b[39mreshape(newshape_a)\n\u001b[1;32m   1176\u001b[0m bt \u001b[38;5;241m=\u001b[39m b\u001b[38;5;241m.\u001b[39mtranspose(newaxes_b)\u001b[38;5;241m.\u001b[39mreshape(newshape_b)\n\u001b[0;32m-> 1177\u001b[0m res \u001b[38;5;241m=\u001b[39m \u001b[43mdot\u001b[49m\u001b[43m(\u001b[49m\u001b[43mat\u001b[49m\u001b[43m,\u001b[49m\u001b[43m \u001b[49m\u001b[43mbt\u001b[49m\u001b[43m)\u001b[49m\n\u001b[1;32m   1178\u001b[0m \u001b[38;5;28;01mreturn\u001b[39;00m res\u001b[38;5;241m.\u001b[39mreshape(olda \u001b[38;5;241m+\u001b[39m oldb)\n",
      "\u001b[0;31mKeyboardInterrupt\u001b[0m: "
     ]
    }
   ],
   "source": [
    "L = 18\n",
    "mps = MPS(L,d=4)\n",
    "h = MPO_AL(.1,.2,.3,.4,.5)\n",
    "cont = CONT(mps,h) \n",
    "sys = dmrg(cont,chi=2,k=100)\n",
    "obs = observables(mps)\n",
    "mps.random()\n",
    "cont.random()\n",
    "\n",
    "# create folder out if not present\n",
    "path_out = 'OUT/'\n",
    "if os.path.isdir(path_out):\n",
    "    shutil.rmtree(path_out)\n",
    "os.mkdir(path_out)\n",
    "\n",
    "\n",
    "sys.chi = 100\n",
    "EE = []\n",
    "EE_pre = []\n",
    "k = 0 \n",
    "\n",
    "\n",
    "for site,dir in tqdm(mps.first_sweep()):\n",
    "    # print(site)\n",
    "    En,_ = sys.step2sites(site,dir=dir,stage='Final')\n",
    "    # EE.append(En)\n",
    "\n",
    "for site,dir in tqdm(mps.sweep()):\n",
    "    En,_ = sys.step2sites(site,dir=dir,exc='off')\n",
    "    EE.append(En)\n",
    "\n",
    "k = 0\n",
    "while True:\n",
    "    for site,dir in tqdm(mps.sweep()):\n",
    "        En,_ = sys.step2sites(site,dir=dir,exc='off')\n",
    "        EE.append(En)\n",
    "    k += 1\n",
    "    if k == 5:\n",
    "        break\n",
    "\n",
    "# # Final sweep to store observables\n",
    "# for site,dir in mps.right_sweep():\n",
    "#     _,S = sys.step2sites(site,dir=dir,stage='Final')\n",
    "\n",
    "#     # Store local magnetization\n",
    "#     if site == 2:\n",
    "#         o1,o2 = obs.bound_left(site-1,h.Z)\n",
    "#         with open(path_out + 'ZZ.txt','a') as fz:\n",
    "#             fz.write(f'{site} {o1.real} \\n')\n",
    "#             fz.write(f'{site} {o2.real} \\n')\n",
    "\n",
    "#     with open(path_out + 'ZZ.txt','a') as fz:\n",
    "#             fz.write(f'{site} {obs.single_site(site,h.Z).real} \\n')\n",
    "\n",
    "#     if site == L-3:\n",
    "#         o1,o2 = obs.bound_right(site+1,h.Z)\n",
    "#         with open(path_out + 'ZZ.txt','a') as fz:\n",
    "#             fz.write(f'{site} {o1.real} \\n')\n",
    "#             fz.write(f'{site} {o2.real} \\n')\n",
    "\n",
    "#     # Store entanglement entropy\n",
    "#     with open(path_out + 'S.txt','a') as fz:\n",
    "#             fz.write(f'{site} {site+1} {S} \\n')\n",
    "\n",
    "#     # Store all two point correlations from site\n",
    "\n",
    "#     obs.all_corr(path_out + 'ZZstring.txt',site,string=h.Z,obs1=h.Z)\n",
    "#     obs.all_corr(path_out + 'ZZcorr.txt',site,string=h.Id,obs1=h.Z)\n",
    "\n",
    "#     if site == 10:\n",
    "#         ZZ_10_13 = obs.two_sites(site,site+3,string=h.Id,obs1=h.Id)\n",
    "\n",
    "# plt.plot(EE[1:])"
   ]
  },
  {
   "cell_type": "code",
   "execution_count": 318,
   "id": "7f2d41a5",
   "metadata": {},
   "outputs": [
    {
     "data": {
      "text/plain": [
       "[<matplotlib.lines.Line2D at 0x7a80952da620>]"
      ]
     },
     "execution_count": 318,
     "metadata": {},
     "output_type": "execute_result"
    },
    {
     "data": {
      "image/png": "[encoded data removed]",
      "text/plain": [
       "<Figure size 640x480 with 1 Axes>"
      ]
     },
     "metadata": {},
     "output_type": "display_data"
    }
   ],
   "source": [
    "plt.plot(EE[100:])"
   ]
  },
  {
   "cell_type": "code",
   "execution_count": null,
   "id": "9e994fa8",
   "metadata": {},
   "outputs": [],
   "source": [
    "from itertools import product\n",
    "dim = [4,2,2]\n",
    "Id4 = np.identity(4)\n",
    "res = np.zeros((2,2,4))\n",
    "ranges = [range(d) for d in dim]\n",
    "for i in product(*ranges):\n",
    "    res[i[0],i[1],i[2]] =Id4[i[0]i[1]i[2]]"
   ]
  },
  {
   "cell_type": "code",
   "execution_count": null,
   "id": "07c24afe",
   "metadata": {},
   "outputs": [],
   "source": [
    "d=4\n",
    "a = np.reshape(np.identity(d**2)[:,:d],(d,d,d))\n",
    "np.tensordot(a,a,((0,1),(0,1)))"
   ]
  },
  {
   "cell_type": "markdown",
   "id": "35deeaf3",
   "metadata": {},
   "source": [
    "### test lanczos"
   ]
  },
  {
   "cell_type": "code",
   "execution_count": null,
   "id": "a7df16aa",
   "metadata": {},
   "outputs": [],
   "source": [
    "def lanczos(mat,vec):\n",
    "    "
   ]
  },
  {
   "cell_type": "code",
   "execution_count": 97,
   "id": "ae52b1f4",
   "metadata": {},
   "outputs": [],
   "source": [
    "h = MPO_AL(.1,.2,.3,.4,.5)\n",
    "\n",
    "Hmpo = np.tensordot(h.Wl(),h.mpo(1),(2,2))\n",
    "Hmpo = np.tensordot(Hmpo,h.mpo(4),(4,2))\n",
    "Hmpo = np.tensordot(Hmpo,h.Wr(),(6,2))"
   ]
  },
  {
   "cell_type": "code",
   "execution_count": 98,
   "id": "b46225bc",
   "metadata": {},
   "outputs": [
    {
     "data": {
      "text/plain": [
       "(4, 4, 4, 4, 4, 4, 4, 4)"
      ]
     },
     "execution_count": 98,
     "metadata": {},
     "output_type": "execute_result"
    }
   ],
   "source": [
    "Hmpo.shape"
   ]
  },
  {
   "cell_type": "code",
   "execution_count": 99,
   "id": "12e3e95a",
   "metadata": {},
   "outputs": [],
   "source": [
    "from itertools import product\n",
    "ranges = [range(4) for i in range(8)]\n",
    "\n",
    "H = np.zeros((4**4,4**4))\n",
    "for i in product(*ranges):\n",
    "    row = i[0]*4**3 + i[2]*4**2 + i[4]*4 + i[6]\n",
    "    col = i[1]*4**3 + i[3]*4**2 + i[5]*4 + i[7]\n",
    "    H[row,col] = Hmpo[i]"
   ]
  },
  {
   "cell_type": "code",
   "execution_count": 100,
   "id": "1ef7b220",
   "metadata": {},
   "outputs": [
    {
     "data": {
      "text/plain": [
       "np.True_"
      ]
     },
     "execution_count": 100,
     "metadata": {},
     "output_type": "execute_result"
    }
   ],
   "source": [
    "((H - H.T) == 0).all()"
   ]
  },
  {
   "cell_type": "code",
   "execution_count": 102,
   "id": "eef03dab",
   "metadata": {},
   "outputs": [
    {
     "data": {
      "text/plain": [
       "array([[1., 0.],\n",
       "       [0., 1.]])"
      ]
     },
     "execution_count": 102,
     "metadata": {},
     "output_type": "execute_result"
    }
   ],
   "source": [
    "1/2*np.array([[1,1],[-1,1]])@np.array([[1,-1],[1,1]])"
   ]
  },
  {
   "cell_type": "code",
   "execution_count": 104,
   "id": "150275a6",
   "metadata": {},
   "outputs": [
    {
     "data": {
      "text/plain": [
       "array([[0.32889977, 0.0160169 , 0.76769471, 0.66159771],\n",
       "       [0.84518772, 0.59503349, 0.27431838, 0.38062655],\n",
       "       [0.85331241, 0.19552339, 0.45857546, 0.0024208 ],\n",
       "       [0.96590836, 0.75805549, 0.44726867, 0.17248859]])"
      ]
     },
     "execution_count": 104,
     "metadata": {},
     "output_type": "execute_result"
    }
   ],
   "source": [
    "b = np.random.random((4,4))\n",
    "b"
   ]
  },
  {
   "cell_type": "code",
   "execution_count": 113,
   "id": "425f88b0",
   "metadata": {},
   "outputs": [
    {
     "name": "stdout",
     "output_type": "stream",
     "text": [
      "[0 2]\n",
      "[0 3]\n",
      "[1 0]\n",
      "[1 1]\n",
      "[2 0]\n",
      "[3 0]\n",
      "[3 1]\n"
     ]
    },
    {
     "data": {
      "text/plain": [
       "array([[0.        , 0.        , 0.76769471, 0.66159771],\n",
       "       [0.84518772, 0.59503349, 0.        , 0.        ],\n",
       "       [0.85331241, 0.        , 0.        , 0.        ],\n",
       "       [0.96590836, 0.75805549, 0.        , 0.        ]])"
      ]
     },
     "execution_count": 113,
     "metadata": {},
     "output_type": "execute_result"
    }
   ],
   "source": [
    "where = np.argwhere(b>.5)\n",
    "new = np.zeros((4,4))\n",
    "for i in where:\n",
    "    print(i)\n",
    "    new[i[0],i[1]] = b[i[0],i[1]]\n",
    "new"
   ]
  },
  {
   "cell_type": "code",
   "execution_count": null,
   "id": "cab7a5ab",
   "metadata": {},
   "outputs": [],
   "source": [
    "psi_o -= (psi.conj()@vecs[j])*vecs[j]"
   ]
  },
  {
   "cell_type": "code",
   "execution_count": 306,
   "id": "ae28d451",
   "metadata": {},
   "outputs": [],
   "source": [
    "def gram_schmidt(dim):\n",
    "    vec0 = np.random.random(dim) + 1j*np.random.random(dim)\n",
    "    vec0 /= np.linalg.norm(vec0)\n",
    "\n",
    "    vecs = [vec0]\n",
    "\n",
    "    for j in range(1,dim-2):\n",
    "        temp = np.random.random(dim) + 1j*np.random.random(dim)\n",
    "        temp /= np.linalg.norm(temp)\n",
    "        temp_o = temp\n",
    "        for k in range(j):\n",
    "            temp_o -= (vecs[k].conj()@temp)*vecs[k]\n",
    "        \n",
    "        temp_o /= np.linalg.norm(temp_o)\n",
    "        if not np.isclose(temp_o.conj()@vecs[-1],0):\n",
    "            print('Error',temp_o.conj()@vecs[-1])\n",
    "        vecs.append(temp_o)  \n",
    "    \n",
    "    return (np.array(vecs,dtype='complex').T).conj()"
   ]
  },
  {
   "cell_type": "code",
   "execution_count": 310,
   "id": "f507e046",
   "metadata": {},
   "outputs": [
    {
     "data": {
      "text/plain": [
       "np.True_"
      ]
     },
     "execution_count": 310,
     "metadata": {},
     "output_type": "execute_result"
    }
   ],
   "source": [
    "a = gram_schmidt(10)\n",
    "np.isclose((a.T).conj()@a,np.identity(8)).all()\n",
    "# np.isclose((a.T).conj(),np.identity(8)).all()"
   ]
  },
  {
   "cell_type": "code",
   "execution_count": 294,
   "id": "a805e56b",
   "metadata": {},
   "outputs": [
    {
     "name": "stdout",
     "output_type": "stream",
     "text": [
      "(0.9999999999999998+0j) (1+0j) (7.494005416219807e-16-9.367506770274758e-16j) (7.494005416219807e-16+9.367506770274758e-16j)\n"
     ]
    }
   ],
   "source": [
    "dim = 2\n",
    "a = np.random.random(dim) + 1j*np.random.random(dim)\n",
    "a /= np.linalg.norm(a)\n",
    "\n",
    "b = np.random.random(dim) + 1j*np.random.random(dim)\n",
    "\n",
    "c = b- (a.conj()@b)*a\n",
    "c /= np.linalg.norm(c)\n",
    "\n",
    "print(a.conj()@a,c.conj()@c,a.conj()@c,a@c.conj())"
   ]
  },
  {
   "cell_type": "code",
   "execution_count": 214,
   "id": "c8740011",
   "metadata": {},
   "outputs": [],
   "source": [
    "from scipy.sparse.linalg import eigsh"
   ]
  },
  {
   "cell_type": "code",
   "execution_count": 218,
   "id": "7a9fb44f",
   "metadata": {},
   "outputs": [],
   "source": [
    "a = np.random.random(100)\n",
    "b = np.random.random(99)\n",
    "mat = np.diag(a)+np.diag(b,k=1)+np.diag(b,k=-1)"
   ]
  },
  {
   "cell_type": "code",
   "execution_count": 221,
   "id": "46e64b3b",
   "metadata": {},
   "outputs": [
    {
     "name": "stdout",
     "output_type": "stream",
     "text": [
      "1.49 ms ± 530 μs per loop (mean ± std. dev. of 7 runs, 1,000 loops each)\n"
     ]
    }
   ],
   "source": [
    "%%timeit\n",
    "a1,b1=np.linalg.eigh(mat)"
   ]
  },
  {
   "cell_type": "code",
   "execution_count": null,
   "id": "510fdcbc",
   "metadata": {},
   "outputs": [
    {
     "name": "stdout",
     "output_type": "stream",
     "text": [
      "605 μs ± 12.3 μs per loop (mean ± std. dev. of 7 runs, 1,000 loops each)\n"
     ]
    }
   ],
   "source": [
    "%%timeit\n",
    "a2,b2=eigsh(mat,which='SA')"
   ]
  },
  {
   "cell_type": "code",
   "execution_count": 238,
   "id": "29cc5484",
   "metadata": {},
   "outputs": [],
   "source": [
    "a1,b1=np.linalg.eigh(mat)\n",
    "a2,b2=eigsh(mat,which='SA')"
   ]
  },
  {
   "cell_type": "code",
   "execution_count": 230,
   "id": "25d6a888",
   "metadata": {},
   "outputs": [
    {
     "data": {
      "text/plain": [
       "np.True_"
      ]
     },
     "execution_count": 230,
     "metadata": {},
     "output_type": "execute_result"
    }
   ],
   "source": [
    "np.isclose(mat@b2[:,1] - a2[1]*b2[:,1],np.zeros(100)).all()"
   ]
  },
  {
   "cell_type": "code",
   "execution_count": 231,
   "id": "e68afe72",
   "metadata": {},
   "outputs": [
    {
     "data": {
      "text/plain": [
       "np.True_"
      ]
     },
     "execution_count": 231,
     "metadata": {},
     "output_type": "execute_result"
    }
   ],
   "source": [
    "np.isclose(mat@b1[:,1] - a1[1]*b1[:,1],np.zeros(100)).all()"
   ]
  }
 ],
 "metadata": {
  "kernelspec": {
   "display_name": ".dmrg",
   "language": "python",
   "name": ".dmrg"
  },
  "language_info": {
   "codemirror_mode": {
    "name": "ipython",
    "version": 3
   },
   "file_extension": ".py",
   "mimetype": "text/x-python",
   "name": "python",
   "nbconvert_exporter": "python",
   "pygments_lexer": "ipython3",
   "version": "3.10.12"
  }
 },
 "nbformat": 4,
 "nbformat_minor": 5
}
