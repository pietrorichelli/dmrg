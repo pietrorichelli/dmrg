{
 "cells": [
  {
   "cell_type": "markdown",
   "id": "b9a456b0",
   "metadata": {},
   "source": [
    "# Dev notebook for updates"
   ]
  },
  {
   "cell_type": "markdown",
   "id": "3125bb8b",
   "metadata": {},
   "source": [
    "`No development at the moment`"
   ]
  },
  {
   "cell_type": "code",
   "execution_count": 17,
   "id": "2ff05bb9",
   "metadata": {},
   "outputs": [],
   "source": [
    "import numpy as np\n",
    "from dmrg.MPS import MPS \n",
    "from dmrg.MPO import MPO_TFI\n",
    "from dmrg.cont import CONT\n",
    "from dmrg.dmrg import dmrg\n",
    "# from dmrg.obs import observables\n",
    "\n",
    "import matplotlib.pyplot as plt"
   ]
  },
  {
   "cell_type": "markdown",
   "id": "4d734395",
   "metadata": {},
   "source": [
    "### Class "
   ]
  },
  {
   "cell_type": "markdown",
   "id": "55ad2f3d",
   "metadata": {},
   "source": [
    "### Test"
   ]
  },
  {
   "cell_type": "code",
   "execution_count": 45,
   "id": "72671a02",
   "metadata": {},
   "outputs": [
    {
     "data": {
      "text/plain": [
       "[<matplotlib.lines.Line2D at 0x7fe970393f40>]"
      ]
     },
     "execution_count": 45,
     "metadata": {},
     "output_type": "execute_result"
    },
    {
     "data": {
      "image/png": "[encoded data removed]",
      "text/plain": [
       "<Figure size 640x480 with 1 Axes>"
      ]
     },
     "metadata": {},
     "output_type": "display_data"
    }
   ],
   "source": [
    "L = 20\n",
    "mps = MPS(L,d=2)\n",
    "h = MPO_TFI(1,1,pol='tot')\n",
    "cont = CONT(mps,h) \n",
    "sys = dmrg(cont,chi=2)\n",
    "obs = observables(mps)\n",
    "mps.random()\n",
    "cont.random()\n",
    "\n",
    "# create folder out if not present\n",
    "path_out = 'OUT/'\n",
    "if os.path.isdir(path_out):\n",
    "    shutil.rmtree(path_out)\n",
    "os.mkdir(path_out)\n",
    "\n",
    "\n",
    "sys.chi = 100\n",
    "EE = []\n",
    "EE_pre = []\n",
    "k = 0 \n",
    "\n",
    "\n",
    "for site,dir in mps.first_sweep():\n",
    "    # print(site)\n",
    "    En,_ = sys.step2sites(site,dir=dir)\n",
    "    # EE.append(En)\n",
    "\n",
    "for site,dir in mps.sweep():\n",
    "    En,_ = sys.step2sites(site,dir=dir)\n",
    "    EE.append(En)\n",
    "\n",
    "for site,dir in mps.sweep():\n",
    "    En,_ = sys.step2sites(site,dir=dir)\n",
    "    EE.append(En)\n",
    "\n",
    "# Final sweep to store observables\n",
    "for site,dir in mps.right_sweep():\n",
    "    _,S = sys.step2sites(site,dir=dir,stage='Final')\n",
    "\n",
    "    # Store local magnetization\n",
    "    if site == 2:\n",
    "        o1,o2 = obs.bound_left(site-1,h.Z)\n",
    "        with open(path_out + 'ZZ.txt','a') as fz:\n",
    "            fz.write(f'{site} {o1.real} \\n')\n",
    "            fz.write(f'{site} {o2.real} \\n')\n",
    "\n",
    "    with open(path_out + 'ZZ.txt','a') as fz:\n",
    "            fz.write(f'{site} {obs.single_site(site,h.Z).real} \\n')\n",
    "\n",
    "    if site == L-3:\n",
    "        o1,o2 = obs.bound_right(site+1,h.Z)\n",
    "        with open(path_out + 'ZZ.txt','a') as fz:\n",
    "            fz.write(f'{site} {o1.real} \\n')\n",
    "            fz.write(f'{site} {o2.real} \\n')\n",
    "\n",
    "    # Store entanglement entropy\n",
    "    with open(path_out + 'S.txt','a') as fz:\n",
    "            fz.write(f'{site} {site+1} {S} \\n')\n",
    "\n",
    "    # Store all two point correlations from site\n",
    "\n",
    "    obs.all_corr(path_out + 'ZZstring.txt',site,string=h.Z,obs1=h.Z)\n",
    "    obs.all_corr(path_out + 'ZZcorr.txt',site,string=h.Id,obs1=h.Z)\n",
    "\n",
    "plt.plot(EE[1:])"
   ]
  },
  {
   "cell_type": "code",
   "execution_count": null,
   "id": "9e994fa8",
   "metadata": {},
   "outputs": [],
   "source": [
    "from itertools import product\n",
    "dim = [4,2,2]\n",
    "Id4 = np.identity(4)\n",
    "res = np.zeros((2,2,4))\n",
    "ranges = [range(d) for d in dim]\n",
    "for i in product(*ranges):\n",
    "    res[i[0],i[1],i[2]] =Id4[i[0]i[1]i[2]]"
   ]
  },
  {
   "cell_type": "code",
   "execution_count": null,
   "id": "07c24afe",
   "metadata": {},
   "outputs": [],
   "source": [
    "d=4\n",
    "a = np.reshape(np.identity(d**2)[:,:d],(d,d,d))\n",
    "np.tensordot(a,a,((0,1),(0,1)))"
   ]
  }
 ],
 "metadata": {
  "kernelspec": {
   "display_name": ".dmrg",
   "language": "python",
   "name": ".dmrg"
  },
  "language_info": {
   "codemirror_mode": {
    "name": "ipython",
    "version": 3
   },
   "file_extension": ".py",
   "mimetype": "text/x-python",
   "name": "python",
   "nbconvert_exporter": "python",
   "pygments_lexer": "ipython3",
   "version": "3.10.12"
  }
 },
 "nbformat": 4,
 "nbformat_minor": 5
}
