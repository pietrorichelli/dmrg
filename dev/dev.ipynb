{
 "cells": [
  {
   "cell_type": "markdown",
   "id": "b9a456b0",
   "metadata": {},
   "source": [
    "# Dev notebook for updates"
   ]
  },
  {
   "cell_type": "markdown",
   "id": "3125bb8b",
   "metadata": {},
   "source": [
    "`Lanczos optimization`"
   ]
  },
  {
   "cell_type": "code",
   "execution_count": 2,
   "id": "2ff05bb9",
   "metadata": {},
   "outputs": [],
   "source": [
    "import numpy as np\n",
    "from dmrg_src.MPS import MPS \n",
    "from dmrg_src.MPO import MPO_TFI\n",
    "from dmrg_src.cont import CONT\n",
    "# from dmrg_src.dmrg import dmrg\n",
    "from dmrg.obs import observables\n",
    "\n",
    "import matplotlib.pyplot as plt\n",
    "import os\n",
    "import shutil\n",
    "from tqdm import tqdm"
   ]
  },
  {
   "cell_type": "markdown",
   "id": "4d734395",
   "metadata": {},
   "source": [
    "### Class "
   ]
  },
  {
   "cell_type": "code",
   "execution_count": 3,
   "id": "2a2f8beb",
   "metadata": {},
   "outputs": [],
   "source": [
    "import numpy as np\n",
    "from scipy.linalg import eigh_tridiagonal\n",
    "from scipy.sparse.linalg import ArpackNoConvergence\n",
    "\n",
    "\n",
    "class EffH():\n",
    "\n",
    "    def __init__(self,L,R,H,site,k=300):\n",
    "        self.L = L \n",
    "        self.R = R \n",
    "        self.H = H \n",
    "        self.k = k\n",
    "        self.d = H.d\n",
    "        self.site = site\n",
    "        c1,_,_ = L.shape\n",
    "        c2,_,_ = R.shape\n",
    "        self.c1 = c1\n",
    "        self.c2 = c2\n",
    "        self.len_vec = c1*c2*self.d**2\n",
    "        self.k = min(c1*c2*self.d**2,k)\n",
    "\n",
    "    def __str__(self):\n",
    "        return 'Effective Hamiltonian on the Cayley tree'\n",
    "    \n",
    "    def __repr__(self):\n",
    "        return 'Effective Hamiltonian on the Cayley tree'\n",
    "\n",
    "    def matvec(self,psi):\n",
    "        h = self.H\n",
    "        psi = np.reshape(psi,(self.c1,self.d,self.d,self.c2))\n",
    "        \n",
    "        x = np.tensordot(self.L,h.mpo(p=self.site),(1,2))\n",
    "        x = np.tensordot(x,psi,[(0,2),(0,1)])\n",
    "        x = np.tensordot(x,h.mpo(p=self.site+1),[(2,3),(2,0)])\n",
    "        x = np.tensordot(x,self.R,[(4,2),(1,0)])\n",
    "        \n",
    "        return np.reshape(x,(self.c1*self.d*self.d*self.c2))\n",
    "    \n",
    "    def lanc_iter(self,psi0,exc='off'):\n",
    "        psi0 = psi0/np.linalg.norm(psi0)\n",
    "        vecs = [psi0] \n",
    "\n",
    "        T = np.zeros((self.k,self.k))\n",
    "        \n",
    "        psi = self.matvec(psi0)\n",
    "        alpha = T[0, 0] = np.inner(psi0.conj(),psi).real\n",
    "        psi = psi - alpha* vecs[-1]\n",
    "        \n",
    "        for i in range(1,self.k):\n",
    "            beta = np.linalg.norm(psi)\n",
    "            if beta  < 1e-8:\n",
    "                T = T[:i, :i]\n",
    "                break\n",
    "            if exc == 'off':\n",
    "                psi /= beta\n",
    "            if exc == 'on':\n",
    "                psi_o = psi\n",
    "                for j in range(i):\n",
    "                    psi_o -= (psi.conj()@vecs[j])*vecs[j]\n",
    "                psi = psi_o/np.linalg.norm(psi_o)\n",
    "            vecs.append(psi)\n",
    "            psi = self.matvec(psi) - beta*vecs[-2]\n",
    "            alpha = psi.conj()@vecs[-1]\n",
    "            psi = psi - alpha * vecs[-1] \n",
    "            T[i, i] = alpha.real\n",
    "            T[i-1, i] = T[i, i-1] = beta    \n",
    "        \n",
    "        return T, (np.array(vecs).T).conj()\n",
    "\n",
    "    def lanc_iter_old(self,psi0,exc='off'):\n",
    "        psi0 = psi0/np.linalg.norm(psi0)\n",
    "        vecs = [psi0] \n",
    "\n",
    "        T = np.zeros((self.k,self.k))\n",
    "        \n",
    "        psi = self.matvec(psi0)\n",
    "        alpha = T[0, 0] = np.inner(psi0.conj(),psi).real\n",
    "        psi = psi - alpha* vecs[-1]\n",
    "        \n",
    "        for i in range(1,self.k):\n",
    "            beta = np.linalg.norm(psi)\n",
    "            if beta  < 1e-8:\n",
    "                T = T[:i, :i]\n",
    "                break\n",
    "            if exc == 'off':\n",
    "                psi /= beta\n",
    "            if exc == 'on':\n",
    "                psi_o = psi\n",
    "                for j in range(i):\n",
    "                    psi_o -= (psi.conj()@vecs[j])*vecs[j]\n",
    "                psi = psi_o/np.linalg.norm(psi_o)\n",
    "            vecs.append(psi)\n",
    "            psi = self.matvec(psi) \n",
    "            alpha = np.inner(vecs[-1].conj(), psi).real\n",
    "            psi = psi - alpha * vecs[-1] - beta * vecs[-2]\n",
    "            T[i, i] = alpha\n",
    "            T[i-1, i] = T[i, i-1] = beta    \n",
    "        return T, np.array(vecs).T\n",
    "\n",
    "    def lanc_iter_new(self,psi0,exc='off'):\n",
    "        psi0 = psi0/np.linalg.norm(psi0)\n",
    "        vecs = [psi0] \n",
    "\n",
    "        T = np.zeros((self.k,self.k))\n",
    "        \n",
    "        psi = self.matvec(psi0)\n",
    "        alpha = T[0, 0] = np.inner(psi0.conj(),psi).real\n",
    "        psi = psi - alpha* vecs[-1]\n",
    "        \n",
    "        for i in range(1,self.k):\n",
    "            beta = np.linalg.norm(psi)\n",
    "            if np.abs(beta)  < 1e-8:\n",
    "                T = T[:i, :i]\n",
    "                break\n",
    "            if exc == 'off':\n",
    "                psi /= beta\n",
    "            if exc == 'on':\n",
    "                psi_o = psi\n",
    "                for j in range(i):\n",
    "                    psi_o -= (psi.conj()@vecs[j])*vecs[j]\n",
    "                psi = psi_o/np.linalg.norm(psi_o)\n",
    "            vecs.append(psi)\n",
    "            psi = self.matvec(psi) \n",
    "            alpha = np.inner(vecs[-1].conj(), psi).real\n",
    "            psi = psi - alpha * vecs[-1] - beta * vecs[-2]\n",
    "            T[i, i] = alpha\n",
    "            T[i-1, i] = T[i, i-1] = beta    \n",
    "        return T, np.array(vecs).T\n",
    "\n",
    "    def lanczos_grd(self,psi0=None,exc='off'):\n",
    "        if psi0 is None:\n",
    "            psi0 = np.random.rand(self.c1*self.c2*self.d**2)\n",
    "        T, vecs = self.lanc_iter_old(psi0,exc=exc)\n",
    "\n",
    "        try:\n",
    "            E,v = eigh_tridiagonal(np.diag(T),np.diag(T,k=1),select='i',select_range=(0,2))\n",
    "            # E,v = np.linalg.eigh(T)\n",
    "            result = vecs @ v[:, np.argmin(E)]\n",
    "            if exc == 'off':\n",
    "                E = min(E)\n",
    "                \n",
    "        except ArpackNoConvergence as err:\n",
    "            print('Lanczos did not converge !!!')\n",
    "            E = psi0.conj()@self.matvec(psi0)\n",
    "            result = psi0\n",
    "\n",
    "        return E, result"
   ]
  },
  {
   "cell_type": "code",
   "execution_count": 4,
   "id": "e945a3c9",
   "metadata": {},
   "outputs": [],
   "source": [
    "import numpy as np\n",
    "from scipy.linalg import svd\n",
    "\n",
    "from dmrg.MPS import MPS\n",
    "from dmrg.cont import CONT\n",
    "# from .lanczos import EffH\n",
    "\n",
    "class dmrg():\n",
    "    \"\"\"\n",
    "        Class that runs the DMRG algorithm on a 1 dimensional system\n",
    "\n",
    "            Attributes:\n",
    "                - cont: Class DMRG.contractions\n",
    "    \"\"\"\n",
    "\n",
    "    def __init__(self,cont,chi=100,cut=1e-12,k=100):\n",
    "        self.cont = cont\n",
    "        self.mps = cont.mps\n",
    "        self.chi = chi\n",
    "        self.h = cont.h\n",
    "        self.L = cont.L\n",
    "        self.count = cont.count\n",
    "        self.cut = cut\n",
    "        self.d = self.mps.d\n",
    "        self.k = k\n",
    "\n",
    "    \n",
    "    def infinite(self):\n",
    "\n",
    "        En = np.zeros(self.L//2-1)\n",
    "        \n",
    "        env_left = self.cont.left(self.L%2)\n",
    "        env_right = self.cont.right(self.L-1)\n",
    "\n",
    "        for i in range(1,self.mps.L//2):\n",
    "\n",
    "            H = EffH(env_left,env_right,self.h,site=i)\n",
    "            En[i-1],grd = H.lanczos_grd()\n",
    "\n",
    "            mat = np.reshape(grd,(H.c1*H.d,H.d*H.c2))\n",
    "            l,c,r = svd(mat,full_matrices=False)\n",
    "\n",
    "            bound = min(len(c[c>self.cut]),self.chi)\n",
    "           \n",
    "            l = l[:,:bound]\n",
    "            c = c[:bound]\n",
    "            r = r[:bound,:]\n",
    "\n",
    "            self.mps.write_left(i+self.L%2,l)\n",
    "            self.mps.write_right(self.mps.L-i-1,r)\n",
    "        \n",
    "            env_left = self.cont.add(i+self.L%2,'l')\n",
    "            env_right = self.cont.add(self.mps.L-i-1,'r')\n",
    "            \n",
    "        self.mps.writeS(i+self.L%2,np.diag(c))\n",
    "\n",
    "        return En\n",
    "\n",
    "    def step2sites(self,site,dir,exc='off',stage=None):\n",
    "\n",
    "        env_left,env_right = self.cont.env_prep(site)\n",
    "    \n",
    "        H = EffH(env_left,env_right,self.h,site=site,k=self.k)\n",
    "\n",
    "        if dir == 'l' or dir == 'bl':\n",
    "            init_vec = np.tensordot(self.mps.read(site),np.tensordot(self.mps.read(site+1),self.mps.readS(site+1),(2,0)),(2,1))\n",
    "            init_vec = dmrg.remish(init_vec)\n",
    "        if dir == 'r' or dir == 'br':\n",
    "            init_vec = np.tensordot(np.tensordot(self.mps.readS(site-1),self.mps.read(site),(0,1)),self.mps.read(site+1),(2,1))\n",
    "\n",
    "        init_vec = np.reshape(init_vec,np.prod(init_vec.shape))\n",
    "\n",
    "        grd_pre = 1/np.sqrt(init_vec@np.conj(init_vec))*init_vec\n",
    "        En_pre = np.conj(grd_pre)@H.matvec(grd_pre)\n",
    "        \n",
    "        if stage == None:\n",
    "            En,grd = H.lanczos_grd(psi0=None,exc=exc)\n",
    "            grd_state = 1/np.sqrt(np.conj(grd)@grd)*grd\n",
    "            \n",
    "        if stage == 'Final':\n",
    "            grd_state = 1/np.sqrt(init_vec@np.conj(init_vec))*init_vec\n",
    "            En = np.conj(grd_state)@H.matvec(grd_state)\n",
    "\n",
    "        grd_state = np.reshape(grd_state,(H.c1*H.d,H.d*H.c2))\n",
    "\n",
    "        l,c,r = svd(grd_state,full_matrices=False)\n",
    "        \n",
    "        bound = min(len(c[c**2>self.cut]),self.chi)\n",
    "        l = l[:,:bound]\n",
    "        c = c[:bound]\n",
    "        r = r[:bound,:]\n",
    "        \n",
    "        self.mps.write_left(site,l)\n",
    "        self.mps.write_right(site+1,r)\n",
    "        self.mps.writeS(site,np.diag(c))\n",
    "\n",
    "        if dir == 'r':\n",
    "            self.cont.add(site,'l')\n",
    "            if site == self.L -3:\n",
    "                self.cont.add(site+1,'r')\n",
    "        \n",
    "        if dir == 'l':\n",
    "            self.cont.add(site+1,'r')\n",
    "            if site == 1:\n",
    "                self.cont.add(site,'l')\n",
    "        \n",
    "        return En, -c**2@np.log(c**2), En_pre\n",
    "\n",
    "\n",
    "    def remish(ten):\n",
    "        d0,d1,d2,d3 = ten.shape\n",
    "        res = np.zeros((d1,d0,d2,d3),dtype='complex256')\n",
    "        for i0 in range(d0):\n",
    "            for i1 in range(d1):\n",
    "                res[i1,i0,:,:] = ten[i0,i1,:,:]\n",
    "\n",
    "        return res\n",
    "    "
   ]
  },
  {
   "cell_type": "markdown",
   "id": "01a74d0e",
   "metadata": {},
   "source": [
    "### MPO"
   ]
  },
  {
   "cell_type": "code",
   "execution_count": 5,
   "id": "9e5d8d15",
   "metadata": {},
   "outputs": [],
   "source": [
    "class MPO_AL():\n",
    "\n",
    "    Id2 = np.identity(2)\n",
    "    Id4 = np.identity(4)\n",
    "    Sp = np.array([[0,1],[0,0]])\n",
    "    Sm = np.array([[0,0],[1,0]])\n",
    "    Z = np.array([[1,0],[0,-1]])\n",
    "    d = 4\n",
    "\n",
    "    sub_BC = [0,2,3]\n",
    "    sub_A = [1,4]\n",
    "\n",
    "    def __init__(self,t_1,t_2,U,e_A,mu):\n",
    "        self.t_1 = t_1\n",
    "        self.t_2 = t_2\n",
    "        self.U = U\n",
    "        self.e_A = e_A\n",
    "        self.mu = mu\n",
    "        self.OP = [np.kron(MPO_AL.Sm,MPO_AL.Id2),np.kron(MPO_AL.Sp,MPO_AL.Id2),np.kron(MPO_AL.Z,MPO_AL.Sm),np.kron(MPO_AL.Z,MPO_AL.Sp)]\n",
    "        self.coeff = [[self.t_1,self.t_2,self.t_2,0,0],\n",
    "                    [self.t_1,self.t_2,self.t_1,0,self.t_2],\n",
    "                    [0,self.t_2,self.t_1,0,self.t_2],\n",
    "                    [0,self.t_1,self.t_2,0,self.t_2],\n",
    "                    [0,self.t_1,0,0,self.t_2]]\n",
    "\n",
    "    \n",
    "    def mpo(self,p):\n",
    "\n",
    "        MPO = np.zeros((4,4,22,22))\n",
    "\n",
    "        MPO[:,:,0,0] = MPO_AL.Id4\n",
    "        MPO[:,:,0,1] = np.kron(MPO_AL.Sp,MPO_AL.Z)\n",
    "        MPO[:,:,0,6] = np.kron(MPO_AL.Sm,MPO_AL.Z)\n",
    "        MPO[:,:,0,11] = np.kron(MPO_AL.Id2,MPO_AL.Sp)\n",
    "        MPO[:,:,0,16] = np.kron(MPO_AL.Id2,MPO_AL.Sm)\n",
    "        MPO[:,:,0,21] = -self.mu*(np.kron(MPO_AL.Z,MPO_AL.Id2) + np.kron(MPO_AL.Id2,MPO_AL.Z))\n",
    "\n",
    "        # sublattice conditions\n",
    "        if (p-1)%5 in MPO_AL.sub_BC:\n",
    "            MPO[:,:,0,21] += self.U*np.kron(MPO_AL.Z,MPO_AL.Z)\n",
    "        \n",
    "        if (p-1)%5 in MPO_AL.sub_A:\n",
    "            MPO[:,:,0,21] += self.e_A*(np.kron(MPO_AL.Z,MPO_AL.Id2) + np.kron(MPO_AL.Id2,MPO_AL.Z))\n",
    "\n",
    "        for j in range(4):\n",
    "            for i in range(4):\n",
    "                MPO[:,:,1 +j*5 +i,2+j*5+i] = np.kron(MPO_AL.Z,MPO_AL.Z)\n",
    "\n",
    "        \n",
    "        for j in range(1,6):\n",
    "            for i in range(4):\n",
    "                MPO[:,:,j+5*i,21] = self.coeff[(p-1)%5][j-1]*self.OP[i]\n",
    "\n",
    "        MPO[:,:,21,21] = MPO_AL.Id4\n",
    "\n",
    "        return MPO\n",
    "\n",
    "    def Wl(self):\n",
    "\n",
    "        Wleft = np.zeros((4,4,22))\n",
    "\n",
    "        Wleft[:,:,0] = MPO_AL.Id4\n",
    "        Wleft[:,:,1] = np.kron(MPO_AL.Sp,MPO_AL.Z)\n",
    "        Wleft[:,:,6] = np.kron(MPO_AL.Sm,MPO_AL.Z)\n",
    "        Wleft[:,:,11] = np.kron(MPO_AL.Id2,MPO_AL.Sp)\n",
    "        Wleft[:,:,16] = np.kron(MPO_AL.Id2,MPO_AL.Sm)\n",
    "        Wleft[:,:,21] = (-self.mu + self.e_A )*(np.kron(MPO_AL.Z,MPO_AL.Id2) + np.kron(MPO_AL.Id2,MPO_AL.Z)) \n",
    "\n",
    "        return Wleft\n",
    "\n",
    "    def Wr(self):\n",
    "\n",
    "        Wright = np.zeros((4,4,22))\n",
    "\n",
    "        for j in range(1,6):\n",
    "            for i in range(4):\n",
    "                Wright[:,:,j+5*i] = self.coeff[1][j-1]*self.OP[i]\n",
    "\n",
    "        Wright[:,:,21] = MPO_AL.Id4\n",
    "\n",
    "        return Wright"
   ]
  },
  {
   "cell_type": "code",
   "execution_count": 25,
   "id": "cb2ba644",
   "metadata": {},
   "outputs": [],
   "source": [
    "class MPO_XY():\n",
    "\n",
    "    X = np.array([[0,1],[1,0]])\n",
    "    Y = np.array([[0,-1j],[1j,0]])\n",
    "    Id = np.identity(2)\n",
    "    d = 2\n",
    "\n",
    "    def __init__(self,J=1):\n",
    "        self.J = J \n",
    "\n",
    "    def Wl(self,p=None):\n",
    "        Wl = np.zeros((2,2,4),dtype='complex')\n",
    "\n",
    "        Wl[:,:,0] = self.Id\n",
    "        Wl[:,:,1] = self.X \n",
    "        Wl[:,:,2] = self.Y \n",
    "\n",
    "        return Wl \n",
    "\n",
    "    def mpo(self,p=None):\n",
    "\n",
    "        MPO = np.zeros((2,2,4,4),dtype='complex')\n",
    "\n",
    "        MPO[:,:,0,0] = self.Id \n",
    "        MPO[:,:,0,1] = self.X \n",
    "        MPO[:,:,0,2] = self.Y \n",
    "        \n",
    "        MPO[:,:,1,3] = self.J*self.Y\n",
    "        MPO[:,:,2,3] = self.J*self.X \n",
    "        \n",
    "        MPO[:,:,3,3] = self.Id \n",
    "\n",
    "        return MPO \n",
    "\n",
    "    def Wr(self,p=None):\n",
    "\n",
    "        Wr = np.zeros((2,2,4),dtype='complex')\n",
    "\n",
    "        Wr[:,:,1] = self.J*self.Y\n",
    "        Wr[:,:,2] = self.J*self.X \n",
    "        Wr[:,:,3] = self.Id \n",
    "\n",
    "        return Wr"
   ]
  },
  {
   "cell_type": "code",
   "execution_count": null,
   "id": "985e479a",
   "metadata": {},
   "outputs": [],
   "source": [
    "class MPO_XY_big():\n",
    "\n",
    "    X = np.kron(np.array([[0,1],[1,0]]),np.array([[1,0],[0,1]]))\n",
    "    Y = np.kron(np.array([[0,-1j],[1j,0]]),np.array([[1,0],[0,1]]))\n",
    "    Z = np.kron(np.identity(2),np.array([[1,0],[0,-1]]))\n",
    "    Id = np.identity(4)\n",
    "    d = 4\n",
    "\n",
    "    def __init__(self,J=1):\n",
    "        self.J = J \n",
    "\n",
    "    def Wl(self,p=None):\n",
    "        Wl = np.zeros((4,4,4),dtype='complex')\n",
    "\n",
    "        Wl[:,:,0] = self.Id\n",
    "        Wl[:,:,1] = self.X \n",
    "        Wl[:,:,2] = self.Y \n",
    "        Wl[:,:,3] = self.Z\n",
    "\n",
    "        return Wl \n",
    "\n",
    "    def mpo(self,p=None):\n",
    "\n",
    "        MPO = np.zeros((4,4,4,4),dtype='complex')\n",
    "\n",
    "        MPO[:,:,0,0] = self.Id \n",
    "        MPO[:,:,0,1] = self.X \n",
    "        MPO[:,:,0,2] = self.Y \n",
    "        MPO[:,:,0,3] = self.Z\n",
    "        \n",
    "        MPO[:,:,1,3] = self.J*self.Y\n",
    "        MPO[:,:,2,3] = self.J*self.X \n",
    "        \n",
    "        MPO[:,:,3,3] = self.Id \n",
    "\n",
    "        return MPO \n",
    "\n",
    "    def Wr(self,p=None):\n",
    "\n",
    "        Wr = np.zeros((4,4,4),dtype='complex')\n",
    "        \n",
    "        Wr[:,:,0] = self.Z\n",
    "        Wr[:,:,1] = self.J*self.Y\n",
    "        Wr[:,:,2] = self.J*self.X \n",
    "        Wr[:,:,3] = self.Id \n",
    "\n",
    "        return Wr"
   ]
  },
  {
   "cell_type": "markdown",
   "id": "55ad2f3d",
   "metadata": {},
   "source": [
    "### Test"
   ]
  },
  {
   "cell_type": "code",
   "execution_count": 7,
   "id": "72671a02",
   "metadata": {},
   "outputs": [
    {
     "name": "stderr",
     "output_type": "stream",
     "text": [
      "21it [00:00, 144.07it/s]\n",
      "1it [00:00,  1.61it/s]"
     ]
    },
    {
     "name": "stdout",
     "output_type": "stream",
     "text": [
      "(-3.8304862753912871653e-16+0j)\n"
     ]
    },
    {
     "name": "stderr",
     "output_type": "stream",
     "text": [
      "2it [00:04,  2.48s/it]"
     ]
    },
    {
     "name": "stdout",
     "output_type": "stream",
     "text": [
      "(-5.673629968616644703e-16+0j)\n"
     ]
    },
    {
     "name": "stderr",
     "output_type": "stream",
     "text": [
      "3it [00:08,  3.26s/it]"
     ]
    },
    {
     "name": "stdout",
     "output_type": "stream",
     "text": [
      "(-5.8492707205592964215e-16+0j)\n"
     ]
    },
    {
     "name": "stderr",
     "output_type": "stream",
     "text": [
      "4it [00:12,  3.63s/it]"
     ]
    },
    {
     "name": "stdout",
     "output_type": "stream",
     "text": [
      "(-1.2433630514063764849e-15+0j)\n"
     ]
    },
    {
     "name": "stderr",
     "output_type": "stream",
     "text": [
      "5it [00:17,  4.03s/it]"
     ]
    },
    {
     "name": "stdout",
     "output_type": "stream",
     "text": [
      "(-5.225854471380131372e-17+0j)\n"
     ]
    },
    {
     "name": "stderr",
     "output_type": "stream",
     "text": [
      "6it [00:22,  4.30s/it]"
     ]
    },
    {
     "name": "stdout",
     "output_type": "stream",
     "text": [
      "(6.852157730108388023e-17+0j)\n"
     ]
    },
    {
     "name": "stderr",
     "output_type": "stream",
     "text": [
      "7it [00:27,  4.45s/it]"
     ]
    },
    {
     "name": "stdout",
     "output_type": "stream",
     "text": [
      "(-1.6696713456276768284e-16+0j)\n"
     ]
    },
    {
     "name": "stderr",
     "output_type": "stream",
     "text": [
      "8it [00:31,  4.55s/it]"
     ]
    },
    {
     "name": "stdout",
     "output_type": "stream",
     "text": [
      "(-1.7000290064572709525e-16+0j)\n"
     ]
    },
    {
     "name": "stderr",
     "output_type": "stream",
     "text": [
      "9it [00:36,  4.62s/it]"
     ]
    },
    {
     "name": "stdout",
     "output_type": "stream",
     "text": [
      "(1.2433630514063764849e-15+0j)\n"
     ]
    },
    {
     "name": "stderr",
     "output_type": "stream",
     "text": [
      "10it [00:41,  4.66s/it]"
     ]
    },
    {
     "name": "stdout",
     "output_type": "stream",
     "text": [
      "(-1.6197980456933436244e-15+0j)\n"
     ]
    },
    {
     "name": "stderr",
     "output_type": "stream",
     "text": [
      "11it [00:46,  4.69s/it]"
     ]
    },
    {
     "name": "stdout",
     "output_type": "stream",
     "text": [
      "(2.7482356668162566393e-15+0j)\n"
     ]
    },
    {
     "name": "stderr",
     "output_type": "stream",
     "text": [
      "12it [00:51,  4.88s/it]"
     ]
    },
    {
     "name": "stdout",
     "output_type": "stream",
     "text": [
      "(-2.934718440483763402e-15+0j)\n"
     ]
    },
    {
     "name": "stderr",
     "output_type": "stream",
     "text": [
      "13it [00:56,  4.92s/it]"
     ]
    },
    {
     "name": "stdout",
     "output_type": "stream",
     "text": [
      "(1.4502288259166107309e-15+0j)\n"
     ]
    },
    {
     "name": "stderr",
     "output_type": "stream",
     "text": [
      "14it [01:01,  4.88s/it]"
     ]
    },
    {
     "name": "stdout",
     "output_type": "stream",
     "text": [
      "(-6.9562411386669964486e-15+0j)\n"
     ]
    },
    {
     "name": "stderr",
     "output_type": "stream",
     "text": [
      "15it [01:15,  7.78s/it]"
     ]
    },
    {
     "name": "stdout",
     "output_type": "stream",
     "text": [
      "(7.1366523801685843864e-15+0j)\n"
     ]
    },
    {
     "name": "stderr",
     "output_type": "stream",
     "text": [
      "16it [02:00, 19.01s/it]"
     ]
    },
    {
     "name": "stdout",
     "output_type": "stream",
     "text": [
      "(-5.611172117225837752e-12+0j)\n"
     ]
    },
    {
     "name": "stderr",
     "output_type": "stream",
     "text": [
      "17it [02:57, 30.34s/it]"
     ]
    },
    {
     "name": "stdout",
     "output_type": "stream",
     "text": [
      "(-8.2727592137787908655e-12+0j)\n"
     ]
    },
    {
     "name": "stderr",
     "output_type": "stream",
     "text": [
      "18it [04:19, 45.88s/it]"
     ]
    },
    {
     "name": "stdout",
     "output_type": "stream",
     "text": [
      "(4.9352882891540161836e-16+0j)\n"
     ]
    },
    {
     "name": "stderr",
     "output_type": "stream",
     "text": [
      "19it [05:42, 56.90s/it]"
     ]
    },
    {
     "name": "stdout",
     "output_type": "stream",
     "text": [
      "(-6.8929237317938429896e-15+0j)\n"
     ]
    },
    {
     "name": "stderr",
     "output_type": "stream",
     "text": [
      "19it [05:49, 18.38s/it]\n"
     ]
    },
    {
     "ename": "KeyboardInterrupt",
     "evalue": "",
     "output_type": "error",
     "traceback": [
      "\u001b[0;31m---------------------------------------------------------------------------\u001b[0m",
      "\u001b[0;31mKeyboardInterrupt\u001b[0m                         Traceback (most recent call last)",
      "Cell \u001b[0;32mIn[7], line 31\u001b[0m\n\u001b[1;32m     28\u001b[0m EE\u001b[38;5;241m.\u001b[39mappend(En)\n\u001b[1;32m     30\u001b[0m \u001b[38;5;28;01mfor\u001b[39;00m site,\u001b[38;5;28mdir\u001b[39m \u001b[38;5;129;01min\u001b[39;00m tqdm(mps\u001b[38;5;241m.\u001b[39msweep()):\n\u001b[0;32m---> 31\u001b[0m     En,_,En_pre \u001b[38;5;241m=\u001b[39m \u001b[43msys\u001b[49m\u001b[38;5;241;43m.\u001b[39;49m\u001b[43mstep2sites\u001b[49m\u001b[43m(\u001b[49m\u001b[43msite\u001b[49m\u001b[43m,\u001b[49m\u001b[38;5;28;43mdir\u001b[39;49m\u001b[38;5;241;43m=\u001b[39;49m\u001b[38;5;28;43mdir\u001b[39;49m\u001b[43m,\u001b[49m\u001b[43mexc\u001b[49m\u001b[38;5;241;43m=\u001b[39;49m\u001b[38;5;124;43m'\u001b[39;49m\u001b[38;5;124;43moff\u001b[39;49m\u001b[38;5;124;43m'\u001b[39;49m\u001b[43m)\u001b[49m\n\u001b[1;32m     32\u001b[0m     \u001b[38;5;28mprint\u001b[39m(EE[\u001b[38;5;241m-\u001b[39m\u001b[38;5;241m1\u001b[39m]\u001b[38;5;241m-\u001b[39mEn_pre)\n\u001b[1;32m     33\u001b[0m     EE\u001b[38;5;241m.\u001b[39mappend(En)\n",
      "Cell \u001b[0;32mIn[4], line 77\u001b[0m, in \u001b[0;36mdmrg.step2sites\u001b[0;34m(self, site, dir, exc, stage)\u001b[0m\n\u001b[1;32m     74\u001b[0m En_pre \u001b[38;5;241m=\u001b[39m np\u001b[38;5;241m.\u001b[39mconj(grd_pre)\u001b[38;5;129m@H\u001b[39m\u001b[38;5;241m.\u001b[39mmatvec(grd_pre)\n\u001b[1;32m     76\u001b[0m \u001b[38;5;28;01mif\u001b[39;00m stage \u001b[38;5;241m==\u001b[39m \u001b[38;5;28;01mNone\u001b[39;00m:\n\u001b[0;32m---> 77\u001b[0m     En,grd \u001b[38;5;241m=\u001b[39m \u001b[43mH\u001b[49m\u001b[38;5;241;43m.\u001b[39;49m\u001b[43mlanczos_grd\u001b[49m\u001b[43m(\u001b[49m\u001b[43mpsi0\u001b[49m\u001b[38;5;241;43m=\u001b[39;49m\u001b[38;5;28;43;01mNone\u001b[39;49;00m\u001b[43m,\u001b[49m\u001b[43mexc\u001b[49m\u001b[38;5;241;43m=\u001b[39;49m\u001b[43mexc\u001b[49m\u001b[43m)\u001b[49m\n\u001b[1;32m     78\u001b[0m     grd_state \u001b[38;5;241m=\u001b[39m \u001b[38;5;241m1\u001b[39m\u001b[38;5;241m/\u001b[39mnp\u001b[38;5;241m.\u001b[39msqrt(np\u001b[38;5;241m.\u001b[39mconj(grd)\u001b[38;5;129m@grd\u001b[39m)\u001b[38;5;241m*\u001b[39mgrd\n\u001b[1;32m     80\u001b[0m \u001b[38;5;28;01mif\u001b[39;00m stage \u001b[38;5;241m==\u001b[39m \u001b[38;5;124m'\u001b[39m\u001b[38;5;124mFinal\u001b[39m\u001b[38;5;124m'\u001b[39m:\n",
      "Cell \u001b[0;32mIn[3], line 133\u001b[0m, in \u001b[0;36mEffH.lanczos_grd\u001b[0;34m(self, psi0, exc)\u001b[0m\n\u001b[1;32m    131\u001b[0m \u001b[38;5;28;01mif\u001b[39;00m psi0 \u001b[38;5;129;01mis\u001b[39;00m \u001b[38;5;28;01mNone\u001b[39;00m:\n\u001b[1;32m    132\u001b[0m     psi0 \u001b[38;5;241m=\u001b[39m np\u001b[38;5;241m.\u001b[39mrandom\u001b[38;5;241m.\u001b[39mrand(\u001b[38;5;28mself\u001b[39m\u001b[38;5;241m.\u001b[39mc1\u001b[38;5;241m*\u001b[39m\u001b[38;5;28mself\u001b[39m\u001b[38;5;241m.\u001b[39mc2\u001b[38;5;241m*\u001b[39m\u001b[38;5;28mself\u001b[39m\u001b[38;5;241m.\u001b[39md\u001b[38;5;241m*\u001b[39m\u001b[38;5;241m*\u001b[39m\u001b[38;5;241m2\u001b[39m)\n\u001b[0;32m--> 133\u001b[0m T, vecs \u001b[38;5;241m=\u001b[39m \u001b[38;5;28;43mself\u001b[39;49m\u001b[38;5;241;43m.\u001b[39;49m\u001b[43mlanc_iter_old\u001b[49m\u001b[43m(\u001b[49m\u001b[43mpsi0\u001b[49m\u001b[43m,\u001b[49m\u001b[43mexc\u001b[49m\u001b[38;5;241;43m=\u001b[39;49m\u001b[43mexc\u001b[49m\u001b[43m)\u001b[49m\n\u001b[1;32m    135\u001b[0m \u001b[38;5;28;01mtry\u001b[39;00m:\n\u001b[1;32m    136\u001b[0m     E,v \u001b[38;5;241m=\u001b[39m eigh_tridiagonal(np\u001b[38;5;241m.\u001b[39mdiag(T),np\u001b[38;5;241m.\u001b[39mdiag(T,k\u001b[38;5;241m=\u001b[39m\u001b[38;5;241m1\u001b[39m),select\u001b[38;5;241m=\u001b[39m\u001b[38;5;124m'\u001b[39m\u001b[38;5;124mi\u001b[39m\u001b[38;5;124m'\u001b[39m,select_range\u001b[38;5;241m=\u001b[39m(\u001b[38;5;241m0\u001b[39m,\u001b[38;5;241m2\u001b[39m))\n",
      "Cell \u001b[0;32mIn[3], line 93\u001b[0m, in \u001b[0;36mEffH.lanc_iter_old\u001b[0;34m(self, psi0, exc)\u001b[0m\n\u001b[1;32m     91\u001b[0m     psi \u001b[38;5;241m=\u001b[39m psi_o\u001b[38;5;241m/\u001b[39mnp\u001b[38;5;241m.\u001b[39mlinalg\u001b[38;5;241m.\u001b[39mnorm(psi_o)\n\u001b[1;32m     92\u001b[0m vecs\u001b[38;5;241m.\u001b[39mappend(psi)\n\u001b[0;32m---> 93\u001b[0m psi \u001b[38;5;241m=\u001b[39m \u001b[38;5;28;43mself\u001b[39;49m\u001b[38;5;241;43m.\u001b[39;49m\u001b[43mmatvec\u001b[49m\u001b[43m(\u001b[49m\u001b[43mpsi\u001b[49m\u001b[43m)\u001b[49m \n\u001b[1;32m     94\u001b[0m alpha \u001b[38;5;241m=\u001b[39m np\u001b[38;5;241m.\u001b[39minner(vecs[\u001b[38;5;241m-\u001b[39m\u001b[38;5;241m1\u001b[39m]\u001b[38;5;241m.\u001b[39mconj(), psi)\u001b[38;5;241m.\u001b[39mreal\n\u001b[1;32m     95\u001b[0m psi \u001b[38;5;241m=\u001b[39m psi \u001b[38;5;241m-\u001b[39m alpha \u001b[38;5;241m*\u001b[39m vecs[\u001b[38;5;241m-\u001b[39m\u001b[38;5;241m1\u001b[39m] \u001b[38;5;241m-\u001b[39m beta \u001b[38;5;241m*\u001b[39m vecs[\u001b[38;5;241m-\u001b[39m\u001b[38;5;241m2\u001b[39m]\n",
      "Cell \u001b[0;32mIn[3], line 35\u001b[0m, in \u001b[0;36mEffH.matvec\u001b[0;34m(self, psi)\u001b[0m\n\u001b[1;32m     33\u001b[0m x \u001b[38;5;241m=\u001b[39m np\u001b[38;5;241m.\u001b[39mtensordot(x,psi,[(\u001b[38;5;241m0\u001b[39m,\u001b[38;5;241m2\u001b[39m),(\u001b[38;5;241m0\u001b[39m,\u001b[38;5;241m1\u001b[39m)])\n\u001b[1;32m     34\u001b[0m x \u001b[38;5;241m=\u001b[39m np\u001b[38;5;241m.\u001b[39mtensordot(x,h\u001b[38;5;241m.\u001b[39mmpo(p\u001b[38;5;241m=\u001b[39m\u001b[38;5;28mself\u001b[39m\u001b[38;5;241m.\u001b[39msite\u001b[38;5;241m+\u001b[39m\u001b[38;5;241m1\u001b[39m),[(\u001b[38;5;241m2\u001b[39m,\u001b[38;5;241m3\u001b[39m),(\u001b[38;5;241m2\u001b[39m,\u001b[38;5;241m0\u001b[39m)])\n\u001b[0;32m---> 35\u001b[0m x \u001b[38;5;241m=\u001b[39m \u001b[43mnp\u001b[49m\u001b[38;5;241;43m.\u001b[39;49m\u001b[43mtensordot\u001b[49m\u001b[43m(\u001b[49m\u001b[43mx\u001b[49m\u001b[43m,\u001b[49m\u001b[38;5;28;43mself\u001b[39;49m\u001b[38;5;241;43m.\u001b[39;49m\u001b[43mR\u001b[49m\u001b[43m,\u001b[49m\u001b[43m[\u001b[49m\u001b[43m(\u001b[49m\u001b[38;5;241;43m4\u001b[39;49m\u001b[43m,\u001b[49m\u001b[38;5;241;43m2\u001b[39;49m\u001b[43m)\u001b[49m\u001b[43m,\u001b[49m\u001b[43m(\u001b[49m\u001b[38;5;241;43m1\u001b[39;49m\u001b[43m,\u001b[49m\u001b[38;5;241;43m0\u001b[39;49m\u001b[43m)\u001b[49m\u001b[43m]\u001b[49m\u001b[43m)\u001b[49m\n\u001b[1;32m     37\u001b[0m \u001b[38;5;28;01mreturn\u001b[39;00m np\u001b[38;5;241m.\u001b[39mreshape(x,(\u001b[38;5;28mself\u001b[39m\u001b[38;5;241m.\u001b[39mc1\u001b[38;5;241m*\u001b[39m\u001b[38;5;28mself\u001b[39m\u001b[38;5;241m.\u001b[39md\u001b[38;5;241m*\u001b[39m\u001b[38;5;28mself\u001b[39m\u001b[38;5;241m.\u001b[39md\u001b[38;5;241m*\u001b[39m\u001b[38;5;28mself\u001b[39m\u001b[38;5;241m.\u001b[39mc2))\n",
      "File \u001b[0;32m~/Documents/Code/.dmrg/lib/python3.10/site-packages/numpy/_core/numeric.py:1177\u001b[0m, in \u001b[0;36mtensordot\u001b[0;34m(a, b, axes)\u001b[0m\n\u001b[1;32m   1175\u001b[0m at \u001b[38;5;241m=\u001b[39m a\u001b[38;5;241m.\u001b[39mtranspose(newaxes_a)\u001b[38;5;241m.\u001b[39mreshape(newshape_a)\n\u001b[1;32m   1176\u001b[0m bt \u001b[38;5;241m=\u001b[39m b\u001b[38;5;241m.\u001b[39mtranspose(newaxes_b)\u001b[38;5;241m.\u001b[39mreshape(newshape_b)\n\u001b[0;32m-> 1177\u001b[0m res \u001b[38;5;241m=\u001b[39m \u001b[43mdot\u001b[49m\u001b[43m(\u001b[49m\u001b[43mat\u001b[49m\u001b[43m,\u001b[49m\u001b[43m \u001b[49m\u001b[43mbt\u001b[49m\u001b[43m)\u001b[49m\n\u001b[1;32m   1178\u001b[0m \u001b[38;5;28;01mreturn\u001b[39;00m res\u001b[38;5;241m.\u001b[39mreshape(olda \u001b[38;5;241m+\u001b[39m oldb)\n",
      "\u001b[0;31mKeyboardInterrupt\u001b[0m: "
     ]
    }
   ],
   "source": [
    "L = 18\n",
    "# h = MPO_XY()\n",
    "h = MPO_AL(.1,.2,.3,.4,.5)\n",
    "mps = MPS(L,d=h.d)\n",
    "cont = CONT(mps,h) \n",
    "sys = dmrg(cont,chi=2,k=300)\n",
    "obs = observables(mps)\n",
    "mps.random()\n",
    "cont.random()\n",
    "\n",
    "# create folder out if not present\n",
    "path_out = 'OUT/'\n",
    "if os.path.isdir(path_out):\n",
    "    shutil.rmtree(path_out)\n",
    "os.mkdir(path_out)\n",
    "\n",
    "\n",
    "sys.chi = 100\n",
    "EE = []\n",
    "EE_pre = []\n",
    "k = 0 \n",
    "\n",
    "\n",
    "for site,dir in tqdm(mps.first_sweep()):\n",
    "    # print(site)\n",
    "    En,_,En_pre = sys.step2sites(site,dir=dir,stage='Final')\n",
    "    # EE.append(En)\n",
    "EE.append(En)\n",
    "\n",
    "for site,dir in tqdm(mps.sweep()):\n",
    "    En,_,En_pre = sys.step2sites(site,dir=dir,exc='off')\n",
    "    print(EE[-1]-En_pre)\n",
    "    EE.append(En)\n",
    "    EE_pre.append(En_pre)\n",
    "\n",
    "k = 0\n",
    "while True:\n",
    "    for site,dir in tqdm(mps.sweep()):\n",
    "        En,_,En_pre = sys.step2sites(site,dir=dir,exc='off')\n",
    "        EE.append(En)\n",
    "\n",
    "    k += 1\n",
    "    if k == 1:\n",
    "        break\n",
    "\n",
    "# # Final sweep to store observables\n",
    "# for site,dir in mps.right_sweep():\n",
    "#     _,S = sys.step2sites(site,dir=dir,stage='Final')\n",
    "\n",
    "#     # Store local magnetization\n",
    "#     if site == 2:\n",
    "#         o1,o2 = obs.bound_left(site-1,h.Z)\n",
    "#         with open(path_out + 'ZZ.txt','a') as fz:\n",
    "#             fz.write(f'{site} {o1.real} \\n')\n",
    "#             fz.write(f'{site} {o2.real} \\n')\n",
    "\n",
    "#     with open(path_out + 'ZZ.txt','a') as fz:\n",
    "#             fz.write(f'{site} {obs.single_site(site,h.Z).real} \\n')\n",
    "\n",
    "#     if site == L-3:\n",
    "#         o1,o2 = obs.bound_right(site+1,h.Z)\n",
    "#         with open(path_out + 'ZZ.txt','a') as fz:\n",
    "#             fz.write(f'{site} {o1.real} \\n')\n",
    "#             fz.write(f'{site} {o2.real} \\n')\n",
    "\n",
    "#     # Store entanglement entropy\n",
    "#     with open(path_out + 'S.txt','a') as fz:\n",
    "#             fz.write(f'{site} {site+1} {S} \\n')\n",
    "\n",
    "#     # Store all two point correlations from site\n",
    "\n",
    "#     obs.all_corr(path_out + 'ZZstring.txt',site,string=h.Z,obs1=h.Z)\n",
    "#     obs.all_corr(path_out + 'ZZcorr.txt',site,string=h.Id,obs1=h.Z)\n",
    "\n",
    "#     if site == 10:\n",
    "#         ZZ_10_13 = obs.two_sites(site,site+3,string=h.Id,obs1=h.Id)\n",
    "\n",
    "plt.plot(EE[1:])"
   ]
  },
  {
   "cell_type": "markdown",
   "id": "35deeaf3",
   "metadata": {},
   "source": [
    "### test lanczos"
   ]
  },
  {
   "cell_type": "code",
   "execution_count": null,
   "id": "0e8fb385",
   "metadata": {},
   "outputs": [],
   "source": [
    "def lanczos(mat,k=100):\n",
    "    k = min(k,mat.shape[0])\n",
    "\n",
    "    vec = np.random.random(mat.shape[0])\n",
    "    a = np.zeros(k)\n",
    "    b = np.zeors(k-1)\n",
    "\n",
    "    b0 = np.linalg.norm(vec)\n",
    "\n",
    "    vec /= b0\n",
    "\n",
    "    w = mat@psi\n",
    "\n",
    "    a[0] = vec@w\n",
    "\n",
    "    w -= a[-1]*vec\n",
    "\n",
    "    for i in range(1,k):\n",
    "        b.append()\n",
    "\n",
    "\n"
   ]
  }
 ],
 "metadata": {
  "kernelspec": {
   "display_name": ".dmrg",
   "language": "python",
   "name": ".dmrg"
  },
  "language_info": {
   "codemirror_mode": {
    "name": "ipython",
    "version": 3
   },
   "file_extension": ".py",
   "mimetype": "text/x-python",
   "name": "python",
   "nbconvert_exporter": "python",
   "pygments_lexer": "ipython3",
   "version": "3.10.12"
  }
 },
 "nbformat": 4,
 "nbformat_minor": 5
}
