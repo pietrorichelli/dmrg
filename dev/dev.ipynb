{
 "cells": [
  {
   "cell_type": "markdown",
   "id": "b9a456b0",
   "metadata": {},
   "source": [
    "# Dev notebook for updates"
   ]
  },
  {
   "cell_type": "markdown",
   "id": "3125bb8b",
   "metadata": {},
   "source": [
    "`Local dependence for the MPO`"
   ]
  },
  {
   "cell_type": "code",
   "execution_count": null,
   "id": "68dcc51b",
   "metadata": {},
   "outputs": [],
   "source": [
    "class test_MPO():\n",
    "\n",
    "    Id = np.identity(2)\n",
    "    Z = np.array([[1,0],[0,-1]])\n",
    "    X = np.array([[0,1],[1,0]])\n",
    "    "
   ]
  }
 ],
 "metadata": {
  "kernelspec": {
   "display_name": ".dmrg",
   "language": "python",
   "name": ".dmrg"
  }
 },
 "nbformat": 4,
 "nbformat_minor": 5
}
