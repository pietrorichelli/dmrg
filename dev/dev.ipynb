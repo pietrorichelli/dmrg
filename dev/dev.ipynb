{
 "cells": [
  {
   "cell_type": "markdown",
   "id": "b9a456b0",
   "metadata": {},
   "source": [
    "# Dev notebook for updates"
   ]
  },
  {
   "cell_type": "markdown",
   "id": "3125bb8b",
   "metadata": {},
   "source": [
    "`Local dependence for the MPO`"
   ]
  },
  {
   "cell_type": "code",
   "execution_count": 14,
   "id": "2ff05bb9",
   "metadata": {},
   "outputs": [],
   "source": [
    "import numpy as np\n",
    "from dmrg.MPS import MPS \n",
    "# from dmrg.MPO import MPO_TFI\n",
    "from dmrg.cont import CONT\n",
    "from dmrg.dmrg import dmrg\n",
    "from dmrg.obs import observables\n",
    "\n",
    "import matplotlib.pyplot as plt"
   ]
  },
  {
   "cell_type": "code",
   "execution_count": 30,
   "id": "68dcc51b",
   "metadata": {},
   "outputs": [],
   "source": [
    "class MPO_TFI():\n",
    "\n",
    "    Id = np.identity(2)\n",
    "    Z = np.array([[1,0],[0,-1]])\n",
    "    X = np.array([[0,1],[1,0]])\n",
    "\n",
    "    def __init__(self,J,h_x,pol=None,d=2):\n",
    "        self.J = J \n",
    "        self.h_x = h_x \n",
    "        self.d = d\n",
    "        self.pol = pol\n",
    "\n",
    "\n",
    "    def Wl(self):\n",
    "\n",
    "        Wleft = np.zeros((2,2,3))\n",
    "\n",
    "        Wleft[:,:,0] = MPO_TFI.Id\n",
    "        Wleft[:,:,1] = -self.J*MPO_TFI.Z\n",
    "        Wleft[:,:,2] = -self.h_x*MPO_TFI.X\n",
    "\n",
    "        if self.pol == 'tot':\n",
    "            Wleft[:,:,2] -= 10*MPO_TFI.Z\n",
    "\n",
    "        return Wleft\n",
    "\n",
    "\n",
    "    def mpo(self,p=None):\n",
    "\n",
    "        MPO = np.zeros((2,2,3,3))\n",
    "\n",
    "        MPO[:,:,0,0] = MPO_TFI.Id\n",
    "        \n",
    "        MPO[:,:,0,1] = -self.J* MPO_TFI.Z\n",
    "        MPO[:,:,0,2] = -self.h_x*MPO_TFI.X\n",
    "\n",
    "        MPO[:,:,1,2] = MPO_TFI.Z\n",
    "        MPO[:,:,2,2] = MPO_TFI.Id \n",
    "\n",
    "        if p%5 == 0:\n",
    "            MPO[:,:,0,2] += 10*MPO_TFI.Z\n",
    "\n",
    "        return MPO\n",
    "\n",
    "\n",
    "    def Wr(self):\n",
    "\n",
    "        Wright = np.zeros((2,2,3))\n",
    "\n",
    "        Wright[:,:,0] = -self.h_x*MPO_TFI.X\n",
    "        Wright[:,:,1] = MPO_TFI.Z \n",
    "        Wright[:,:,2] = MPO_TFI.Id \n",
    "\n",
    "        if self.pol == 'tot':\n",
    "            Wright[:,:,0] -= 10*MPO_TFI.Z\n",
    "\n",
    "        return Wright\n",
    "    "
   ]
  },
  {
   "cell_type": "code",
   "execution_count": 33,
   "id": "72671a02",
   "metadata": {},
   "outputs": [
    {
     "name": "stdout",
     "output_type": "stream",
     "text": [
      "100\n",
      "[ -22.11315128  -24.11718522  -26.12217865  -37.18186273  -48.25135725\n",
      "  -50.24675904  -52.25166511  -54.25666727  -65.31647892  -76.38597345\n",
      "  -78.38137524  -80.38628131  -82.39128347  -93.45109512 -104.52058965\n",
      " -106.51599144 -108.52089751 -110.52589967 -121.58571132]\n"
     ]
    }
   ],
   "source": [
    "L = 40\n",
    "mps = MPS(L)\n",
    "h = MPO_TFI(.1,1,pol='tot')\n",
    "cont = CONT(mps,h) \n",
    "sys = dmrg(cont,chi=2)\n",
    "obs = observables(mps)\n",
    "En0 = sys.infinite()\n",
    "sys.chi = 100\n",
    "print(sys.chi)\n",
    "EE = []\n",
    "EE.append(En0[-1])\n",
    "EE_pre = []\n",
    "k = 0 \n",
    "print(En0)\n",
    "\n",
    "for site,dir in mps.first_sweep():\n",
    "    En,_ = sys.step2sites(site,dir=dir)\n",
    "    EE.append(En)\n",
    "\n",
    "for site,dir in mps.sweep():\n",
    "    En,_ = sys.step2sites(site,dir=dir)\n",
    "    EE.append(En)\n",
    "\n",
    "Z = []\n",
    "for i in range(2,L-2):\n",
    "    En_fin,_ =sys.step2sites(i,dir='r',stage='Final')\n",
    "    EE.append(En)\n",
    "    \n",
    "    # k += 1\n",
    "    # if i ==L//2:\n",
    "    Z += [obs.single_site(i,h.Z).real]"
   ]
  },
  {
   "cell_type": "code",
   "execution_count": null,
   "id": "a8e57d15",
   "metadata": {},
   "outputs": [],
   "source": []
  }
 ],
 "metadata": {
  "kernelspec": {
   "display_name": ".dmrg",
   "language": "python",
   "name": ".dmrg"
  }
 },
 "nbformat": 4,
 "nbformat_minor": 5
}
