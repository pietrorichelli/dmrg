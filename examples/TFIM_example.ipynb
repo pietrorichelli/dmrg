{
 "cells": [
  {
   "cell_type": "markdown",
   "id": "2eeabbde",
   "metadata": {},
   "source": [
    "# Transverse Field Ising Model example"
   ]
  },
  {
   "cell_type": "markdown",
   "id": "05778187",
   "metadata": {},
   "source": [
    "In the following example we will run the dmrg code for an Ising model for a single point in parameter space"
   ]
  },
  {
   "cell_type": "markdown",
   "id": "162857cc",
   "metadata": {},
   "source": [
    "## Create the MPO\n",
    "\n",
    "The first key element for the DMRG simulation is the MPO. In order to read by the dmrg software it needs to be defined as class, but before let's look at how we want to write its methods. The Hamiltonian we want to write is the following:\n",
    "$$ H = -J\\sum_{\\langle i,j \\rangle} \\sigma_i^z \\sigma_j^z -h_x\\sum_i \\sigma_i^x"
   ]
  },
  {
   "cell_type": "markdown",
   "id": "9d4b82a4",
   "metadata": {},
   "source": [
    "### Left MPO\n",
    "\n",
    "The left tensor will be written as a function with the following name"
   ]
  },
  {
   "cell_type": "code",
   "execution_count": null,
   "id": "15137af2",
   "metadata": {},
   "outputs": [],
   "source": [
    "def Wl(J,h_x):\n",
    "\n",
    "    # Define as empty tensor\n",
    "    Wleft = np.zeros((2,2,3))\n",
    "\n",
    "    # Define the spin operators\n",
    "    Id = np.identity(2)\n",
    "    Z = np.array([[1,0],[0,-1]])\n",
    "    X = np.array([[0,1],[1,0]])\n",
    "\n",
    "    # Fill the interactions\n",
    "    Wleft[:,:,0] = MPO_TFI.Id\n",
    "    Wleft[:,:,1] = -J*MPO_TFI.Z\n",
    "    Wleft[:,:,2] = -h_x*MPO_TFI.X\n",
    "\n",
    "    return Wleft"
   ]
  },
  {
   "cell_type": "markdown",
   "id": "feda2195",
   "metadata": {},
   "source": [
    "### Bulk MPO"
   ]
  },
  {
   "cell_type": "code",
   "execution_count": null,
   "id": "f4128ef9",
   "metadata": {},
   "outputs": [],
   "source": [
    "\n",
    "def mpo(J,h_x):\n",
    "    \n",
    "    # Define as empty tensor\n",
    "    MPO = np.zeros((2,2,3,3))\n",
    "\n",
    "    # Define the spin operators\n",
    "    Id = np.identity(2)\n",
    "    Z = np.array([[1,0],[0,-1]])\n",
    "    X = np.array([[0,1],[1,0]])\n",
    "\n",
    "    # Fill the interactions\n",
    "    MPO[:,:,0,0] = MPO_TFI.Id\n",
    "    \n",
    "    MPO[:,:,0,1] = -J* MPO_TFI.Z\n",
    "    MPO[:,:,0,2] = -h_x*MPO_TFI.X\n",
    "\n",
    "    MPO[:,:,1,2] = MPO_TFI.Z\n",
    "    MPO[:,:,2,2] = MPO_TFI.Id \n",
    "\n",
    "    return MPO"
   ]
  },
  {
   "cell_type": "markdown",
   "id": "45f49f34",
   "metadata": {},
   "source": [
    "### Right MPO"
   ]
  },
  {
   "cell_type": "code",
   "execution_count": null,
   "id": "1bccd86f",
   "metadata": {},
   "outputs": [],
   "source": [
    "def Wr(J,h_x):\n",
    "\n",
    "    # Define an empty tensor\n",
    "    Wright = np.zeros((2,2,3))\n",
    "\n",
    "    # Define the spin operators\n",
    "    Id = np.identity(2)\n",
    "    Z = np.array([[1,0],[0,-1]])\n",
    "    X = np.array([[0,1],[1,0]])\n",
    "\n",
    "    # Fill the interactions\n",
    "    Wright[:,:,0] = -h_x*MPO_TFI.X\n",
    "    Wright[:,:,1] = MPO_TFI.Z \n",
    "    Wright[:,:,2] = MPO_TFI.Id \n",
    "\n",
    "    return Wright"
   ]
  },
  {
   "cell_type": "markdown",
   "id": "e2a4a088",
   "metadata": {},
   "source": [
    "### Create the simplest class\n",
    "\n",
    "The functions alone will not be read by the software, in order to use it we need to create a class and add the previous functions as its methods"
   ]
  },
  {
   "cell_type": "code",
   "execution_count": 6,
   "id": "249b71a8",
   "metadata": {},
   "outputs": [],
   "source": [
    "import numpy as np\n",
    "class MPO_TFI():\n",
    "\n",
    "    # Define the class variables\n",
    "    Id = np.identity(2)\n",
    "    Z = np.array([[1,0],[0,-1]])\n",
    "    X = np.array([[0,1],[1,0]])\n",
    "\n",
    "    # Define the class attributes (The couplings of the Hamitonian)\n",
    "    def __init__(self,J,h_x):\n",
    "        self.J = J \n",
    "        self.h_x = h_x\n",
    "\n",
    "\n",
    "    def Wl(self):\n",
    "        \n",
    "        # Define an empty tensor\n",
    "        Wleft = np.zeros((2,2,3))\n",
    "\n",
    "        # Fill in the interactions\n",
    "        Wleft[:,:,0] = MPO_TFI.Id\n",
    "        Wleft[:,:,1] = -self.J*MPO_TFI.Z\n",
    "        Wleft[:,:,2] = -self.h_x*MPO_TFI.X\n",
    "\n",
    "        return Wleft\n",
    "\n",
    "\n",
    "    def mpo(self):\n",
    "\n",
    "        # Define an empty tensor\n",
    "        MPO = np.zeros((2,2,3,3))\n",
    "\n",
    "        # Fill in the interactions\n",
    "        MPO[:,:,0,0] = MPO_TFI.Id\n",
    "        \n",
    "        MPO[:,:,0,1] = -self.J* MPO_TFI.Z\n",
    "        MPO[:,:,0,2] = -self.h_x*MPO_TFI.X\n",
    "\n",
    "        MPO[:,:,1,2] = MPO_TFI.Z\n",
    "        MPO[:,:,2,2] = MPO_TFI.Id \n",
    "\n",
    "        return MPO\n",
    "\n",
    "\n",
    "    def Wr(self):\n",
    "\n",
    "        # Define an emtpy tensor\n",
    "        Wright = np.zeros((2,2,3))\n",
    "\n",
    "        # Fill in the interactions\n",
    "        Wright[:,:,0] = -self.h_x*MPO_TFI.X\n",
    "        Wright[:,:,1] = MPO_TFI.Z \n",
    "        Wright[:,:,2] = MPO_TFI.Id \n",
    "\n",
    "        return Wright"
   ]
  },
  {
   "cell_type": "markdown",
   "id": "e17eed10",
   "metadata": {},
   "source": [
    "### Add the polarization on the boundary\n",
    "\n",
    "In a lot of circumstances the dmrg simulation will need to be run with a given polarization on the boundary. Here is an example of how we can include it into our MPO_TFI class."
   ]
  },
  {
   "cell_type": "code",
   "execution_count": 34,
   "id": "2f8bf9f7",
   "metadata": {},
   "outputs": [],
   "source": [
    "class MPO_TFI():\n",
    "\n",
    "    # Define the class variables\n",
    "    Id = np.identity(2)\n",
    "    Z = np.array([[1,0],[0,-1]])\n",
    "    X = np.array([[0,1],[1,0]])\n",
    "    d = 2\n",
    "\n",
    "    # Define the class attributes (The couplings of the Hamitonian and boundary polarization)\n",
    "    def __init__(self,J,h_x,pol=None,d=2):\n",
    "        self.J = J \n",
    "        self.h_x = h_x \n",
    "        self.pol = pol\n",
    "\n",
    "\n",
    "    def Wl(self):\n",
    "\n",
    "        # Define an empty tensor\n",
    "        Wleft = np.zeros((2,2,3))\n",
    "\n",
    "        # Fill in the interactions\n",
    "        Wleft[:,:,0] = MPO_TFI.Id\n",
    "        Wleft[:,:,1] = -self.J*MPO_TFI.Z\n",
    "        Wleft[:,:,2] = -self.h_x*MPO_TFI.X\n",
    "\n",
    "        # Add polarization term\n",
    "        if self.pol == 'tot':\n",
    "            Wleft[:,:,2] -= 10*MPO_TFI.Z\n",
    "\n",
    "        return Wleft\n",
    "\n",
    "\n",
    "    def mpo(self):\n",
    "\n",
    "        # Define an empty tensor\n",
    "        MPO = np.zeros((2,2,3,3))\n",
    "\n",
    "        # Fill in the interactions\n",
    "        MPO[:,:,0,0] = MPO_TFI.Id\n",
    "        \n",
    "        MPO[:,:,0,1] = -self.J* MPO_TFI.Z\n",
    "        MPO[:,:,0,2] = -self.h_x*MPO_TFI.X\n",
    "\n",
    "        MPO[:,:,1,2] = MPO_TFI.Z\n",
    "        MPO[:,:,2,2] = MPO_TFI.Id \n",
    "\n",
    "        return MPO\n",
    "\n",
    "\n",
    "    def Wr(self):\n",
    "\n",
    "        # Define an empty tensor\n",
    "        Wright = np.zeros((2,2,3))\n",
    "\n",
    "        # Fill in the interactions\n",
    "        Wright[:,:,0] = -self.h_x*MPO_TFI.X\n",
    "        Wright[:,:,1] = MPO_TFI.Z \n",
    "        Wright[:,:,2] = MPO_TFI.Id \n",
    "\n",
    "        # Add polarizations term\n",
    "        if self.pol == 'tot':\n",
    "            Wright[:,:,0] -= 10*MPO_TFI.Z\n",
    "\n",
    "        return Wright"
   ]
  },
  {
   "cell_type": "markdown",
   "id": "83b30dc5",
   "metadata": {},
   "source": [
    "Now the MPO class is ready to be used in our simulation"
   ]
  },
  {
   "cell_type": "markdown",
   "id": "b9a252a4",
   "metadata": {},
   "source": [
    "### Run a single point in parameter space"
   ]
  },
  {
   "cell_type": "markdown",
   "id": "be21781c",
   "metadata": {},
   "source": [
    "First we need to initialize the MPS. We can decide where we want to store the tensors, if nothing is specified a folder named MPS will be created in the same folder where we are running our code."
   ]
  },
  {
   "cell_type": "code",
   "execution_count": null,
   "id": "777b9be8",
   "metadata": {},
   "outputs": [
    {
     "name": "stdout",
     "output_type": "stream",
     "text": [
      "folder path: MPS\n"
     ]
    }
   ],
   "source": [
    "# import the MPS class from dmrg\n",
    "from dmrg.MPS import MPS \n",
    "\n",
    "# specify the number of sites on the chain\n",
    "L = 20 \n",
    "\n",
    "# initialise the MPS for the indicated chain length\n",
    "mps = MPS(20)\n",
    "\n",
    "# check the location of the tensors\n",
    "print('MPS path:',mps.path)"
   ]
  },
  {
   "cell_type": "markdown",
   "id": "83d63f02",
   "metadata": {},
   "source": [
    "Then we need to define the MPO and the contractions. The contractions behave similarly to the MPS, if the path is not specified a folder named CONT will be created in the same folder where we are running our code."
   ]
  },
  {
   "cell_type": "code",
   "execution_count": 35,
   "id": "c54c7df8",
   "metadata": {},
   "outputs": [
    {
     "name": "stdout",
     "output_type": "stream",
     "text": [
      "H polarization: None\n",
      "CONT path: CONT\n"
     ]
    }
   ],
   "source": [
    "# import the CONT class from dmrg\n",
    "from dmrg.cont import CONT\n",
    "\n",
    "# define the MPO \n",
    "h = MPO_TFI(J=1,h_x=0.5)\n",
    "\n",
    "# We can check the polarization of the Hamiltonian\n",
    "print('H polarization:',h.pol)\n",
    "\n",
    "# define the contractions (it needs an mps and a MPO class as imputs)\n",
    "cont = CONT(mps=mps,H=h)\n",
    "\n",
    "# check the location of the tensors\n",
    "print('CONT path:',cont.path) "
   ]
  },
  {
   "cell_type": "markdown",
   "id": "d5d0d773",
   "metadata": {},
   "source": [
    "Now we need to initialize the dmrg"
   ]
  },
  {
   "cell_type": "code",
   "execution_count": null,
   "id": "bdda25b1",
   "metadata": {},
   "outputs": [
    {
     "name": "stdout",
     "output_type": "stream",
     "text": [
      "Max bond dimension: 4\n",
      "Singular value cut off: 1e-12\n"
     ]
    }
   ],
   "source": [
    "# import the dmrg class from dmrg\n",
    "from dmrg.dmrg import dmrg\n",
    "\n",
    "# Initialize your dmrg\n",
    "sys = dmrg(cont=cont,chi=100,cut=1e-12)\n",
    "\n",
    "# Check maximum bond dimension\n",
    "print('Max bond dimension:',sys.chi)\n",
    "\n",
    "# Check singular value cut off\n",
    "print('Singular value cut off:',sys.cut)\n"
   ]
  },
  {
   "cell_type": "markdown",
   "id": "dd3e3d4d",
   "metadata": {},
   "source": [
    "Now that the dmrg is ready we can start the calculation. First we need to grow the system to the desired dimension (L). Afterwards we can start sweeping along all the sites."
   ]
  },
  {
   "cell_type": "code",
   "execution_count": 61,
   "id": "c4bd79fc",
   "metadata": {},
   "outputs": [
    {
     "name": "stdout",
     "output_type": "stream",
     "text": [
      "[ -3.42703409  -5.52202957  -7.64059015  -9.76549856 -11.89203739\n",
      " -14.01898769 -16.14604128 -18.27312076 -20.40020673]\n"
     ]
    }
   ],
   "source": [
    "# Set low bond dimension to grow the system faster\n",
    "sys.chi = 4\n",
    "\n",
    "# Grow the system up to the desired dimension\n",
    "En = sys.infinite()\n",
    "\n",
    "# En stores all the energies found while growing the system\n",
    "print(En)\n",
    "\n",
    "# Increase the bond dimension for the sweeping\n",
    "sys.chi = 100\n",
    "\n",
    "# Store energy values\n",
    "E_sweep = []\n",
    "\n",
    "# The system has grown from the middle so first we need to do a sweep and a half\n",
    "for site,dir in mps.first_sweep():\n",
    "    E,S,_ = sys.step2sites(site,dir=dir)\n",
    "    E_sweep.append(E)"
   ]
  },
  {
   "cell_type": "code",
   "execution_count": 62,
   "id": "3192ecea",
   "metadata": {},
   "outputs": [
    {
     "data": {
      "text/plain": [
       "[<matplotlib.lines.Line2D at 0x7f5ea397fbb0>]"
      ]
     },
     "execution_count": 62,
     "metadata": {},
     "output_type": "execute_result"
    },
    {
     "data": {
      "image/png": "[encoded data removed]",
      "text/plain": [
       "<Figure size 640x480 with 1 Axes>"
      ]
     },
     "metadata": {},
     "output_type": "display_data"
    }
   ],
   "source": [
    "import matplotlib.pyplot as plt\n",
    "\n",
    "plt.plot(E_sweep,'.--')"
   ]
  },
  {
   "cell_type": "code",
   "execution_count": 29,
   "id": "9e883602",
   "metadata": {},
   "outputs": [
    {
     "ename": "NameError",
     "evalue": "name 'observables' is not defined",
     "output_type": "error",
     "traceback": [
      "\u001b[0;31m---------------------------------------------------------------------------\u001b[0m",
      "\u001b[0;31mNameError\u001b[0m                                 Traceback (most recent call last)",
      "Cell \u001b[0;32mIn[29], line 6\u001b[0m\n\u001b[1;32m      4\u001b[0m cont \u001b[38;5;241m=\u001b[39m CONT(mps,h) \n\u001b[1;32m      5\u001b[0m sys \u001b[38;5;241m=\u001b[39m dmrg(cont,chi\u001b[38;5;241m=\u001b[39m\u001b[38;5;241m2\u001b[39m)\n\u001b[0;32m----> 6\u001b[0m obs \u001b[38;5;241m=\u001b[39m \u001b[43mobservables\u001b[49m(mps)\n\u001b[1;32m      7\u001b[0m En0 \u001b[38;5;241m=\u001b[39m sys\u001b[38;5;241m.\u001b[39minfinite()\n\u001b[1;32m      8\u001b[0m sys\u001b[38;5;241m.\u001b[39mchi \u001b[38;5;241m=\u001b[39m \u001b[38;5;241m100\u001b[39m\n",
      "\u001b[0;31mNameError\u001b[0m: name 'observables' is not defined"
     ]
    }
   ],
   "source": [
    "L = 20\n",
    "mps = MPS(L)\n",
    "h = MPO_TFI(1,.1,pol='tot')\n",
    "cont = CONT(mps,h) \n",
    "sys = dmrg(cont,chi=2)\n",
    "obs = observables(mps)\n",
    "En0 = sys.infinite()\n",
    "sys.chi = 100\n",
    "print(sys.chi)\n",
    "EE = []\n",
    "EE.append(En0[-1])\n",
    "EE_pre = []\n",
    "k = 0 \n",
    "print(En0)\n",
    "\n",
    "for site,dir in mps.first_sweep():\n",
    "    En,_,EE_pre = sys.step2sites(site,dir=dir)\n",
    "    EE.append(E)\n",
    "\n",
    "for site,dir in mps.sweep():\n",
    "    En,_,EE_pre = sys.step2sites(site,dir=dir)\n",
    "    EE.append(E)\n",
    "\n",
    "for i in range(2,L-2):\n",
    "    En_fin,_,EE_pre =sys.step2sites(i,dir='r',stage='Final')\n",
    "    EE.append(E)\n",
    "    \n",
    "    k += 1\n",
    "    if i ==L//2:\n",
    "        Z = obs.single_site(i,h.Z)"
   ]
  }
 ],
 "metadata": {
  "kernelspec": {
   "display_name": ".dmrg",
   "language": "python",
   "name": ".dmrg"
  },
  "language_info": {
   "codemirror_mode": {
    "name": "ipython",
    "version": 3
   },
   "file_extension": ".py",
   "mimetype": "text/x-python",
   "name": "python",
   "nbconvert_exporter": "python",
   "pygments_lexer": "ipython3",
   "version": "3.10.12"
  }
 },
 "nbformat": 4,
 "nbformat_minor": 5
}
