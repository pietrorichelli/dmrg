{
 "cells": [
  {
   "cell_type": "markdown",
   "id": "2eeabbde",
   "metadata": {},
   "source": [
    "# Transverse Field Ising Model example"
   ]
  },
  {
   "cell_type": "markdown",
   "id": "05778187",
   "metadata": {},
   "source": [
    "In the following example we will run the dmrg code for an Ising model for a single point in parameter space"
   ]
  },
  {
   "cell_type": "markdown",
   "id": "b9a252a4",
   "metadata": {},
   "source": [
    "## Initialize the"
   ]
  },
  {
   "cell_type": "code",
   "execution_count": 3,
   "id": "777b9be8",
   "metadata": {},
   "outputs": [],
   "source": [
    "# import the MPS class from dmrg\n",
    "from dmrg.MPS import MPS \n",
    "\n",
    "# specify the number of sites on the chain\n",
    "L = 20 \n",
    "\n",
    "# initialise the MPS for the indicated chain length\n",
    "mps = MPS(20,mem='on')"
   ]
  }
 ],
 "metadata": {
  "kernelspec": {
   "display_name": ".dmrg",
   "language": "python",
   "name": ".dmrg"
  },
  "language_info": {
   "codemirror_mode": {
    "name": "ipython",
    "version": 3
   },
   "file_extension": ".py",
   "mimetype": "text/x-python",
   "name": "python",
   "nbconvert_exporter": "python",
   "pygments_lexer": "ipython3",
   "version": "3.10.12"
  }
 },
 "nbformat": 4,
 "nbformat_minor": 5
}
